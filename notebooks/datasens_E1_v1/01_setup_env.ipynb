{
 "cells": [
  {
   "cell_type": "code",
   "execution_count": null,
   "metadata": {},
   "outputs": [],
   "source": [
    "from pathlib import Path\n",
    "\n",
    "ROOT = Path.cwd().resolve().parents[2]\n",
    "DATA_DIR = ROOT / 'data'\n",
    "DOCS_DIR = ROOT / 'docs'\n",
    "LOGS_DIR = ROOT / 'logs'\n",
    "print('ROOT=', ROOT)\n",
    "print('DATA_DIR=', DATA_DIR)\n",
    "print('DOCS_DIR=', DOCS_DIR)\n",
    "print('LOGS_DIR=', LOGS_DIR)\n"
   ]
  },
  {
   "cell_type": "code",
   "execution_count": null,
   "metadata": {},
   "outputs": [],
   "source": [
    "# Override local paths to project root\n",
    "try:\n",
    "    PROJECT_ROOT = ROOT\n",
    "except NameError:\n",
    "    from pathlib import Path\n",
    "    PROJECT_ROOT = Path.cwd().resolve().parents[2]\n",
    "print('Using PROJECT_ROOT =', PROJECT_ROOT)\n"
   ]
  },
  {
   "cell_type": "markdown",
   "metadata": {},
   "source": [
    "# DataSens E1_v1 — 01_setup_env\n",
    "\n",
    "- Objectifs: structure projet, logging, versioning (README_VERSIONNING)\n",
    "- Prérequis: Python, venv activé, `pip install -r requirements.txt`\n",
    "- Ordre global E1_v1: 01 → 02 → 03 → 04 → 05\n",
    "- Guide: docs/GUIDE_TECHNIQUE_E1.md\n"
   ]
  },
  {
   "cell_type": "markdown",
   "metadata": {},
   "source": [
    "> Notes:\n",
    "> - On crée l’arborescence standard du projet (data/logs/docs/notebooks…).\n",
    "> - `Path(...).mkdir(..., exist_ok=True)` évite d’échouer si le dossier existe déjà.\n",
    "> - La fonction `log_version` écrit une ligne d’historique dans `README_VERSIONNING.md`.\n",
    "> - L’historique permet une traçabilité étape par étape.\n"
   ]
  },
  {
   "cell_type": "code",
   "execution_count": 2,
   "metadata": {},
   "outputs": [
    {
     "name": "stdout",
     "output_type": "stream",
     "text": [
      "✅ Structure du projet créée : c:\\Users\\Utilisateur\\Desktop\\DataSens\\notebooks\\datasens_E1_v1\n",
      "🕒 Log : INIT\n",
      "Environnement prêt.\n"
     ]
    }
   ],
   "source": [
    "# DataSens E1_v1 - 01_setup_env\n",
    "# 🎯 Objectif: créer la structure et le versioning\n",
    "from datetime import datetime\n",
    "from pathlib import Path\n",
    "\n",
    "PROJECT_ROOT = Path.cwd()\n",
    "FOLDERS = [\n",
    "    \"datasens\", \"data/raw\", \"data/silver\", \"data/gold\",\n",
    "    \"notebooks\", \"logs\", \"docs\", \"flows\"\n",
    "]\n",
    "for f in FOLDERS:\n",
    "    (PROJECT_ROOT / f).mkdir(parents=True, exist_ok=True)\n",
    "print(\"✅ Structure du projet créée :\", PROJECT_ROOT)\n",
    "\n",
    "# Arbre (optionnel)\n",
    "def show_tree(root: Path, prefix=\"\"):\n",
    "    items = [item for item in root.iterdir() if not item.name.startswith('.')]\n",
    "    items = sorted(items, key=lambda p: (not p.is_dir(), p.name.lower()))\n",
    "    for i, item in enumerate(items):\n",
    "        last = (i == len(items) - 1)\n",
    "        connector = \"└── \" if last else \"├── \"\n",
    "        print(prefix + connector + item.name)\n",
    "        if item.is_dir() and not item.name.startswith('.'):\n",
    "            show_tree(item, prefix + (\"    \" if last else \"│   \"))\n",
    "# show_tree(PROJECT_ROOT)\n",
    "\n",
    "# Versioning simple\n",
    "VERSION_FILE = PROJECT_ROOT / \"README_VERSIONNING.md\"\n",
    "BACKUP_DIR = PROJECT_ROOT / \"datasens\" / \"versions\"\n",
    "BACKUP_DIR.mkdir(parents=True, exist_ok=True)\n",
    "\n",
    "def log_version(action: str, details: str = \"\"):\n",
    "    now = datetime.now().strftime(\"%Y-%m-%d %H:%M:%S\")\n",
    "    entry = f\"- **{now}** | `{action}` | {details}\\n\"\n",
    "    with open(VERSION_FILE, \"a\", encoding=\"utf-8\") as f:\n",
    "        f.write(entry)\n",
    "    print(f\"🕒 Log : {action}\")\n",
    "\n",
    "log_version(\"INIT\", \"Création de la structure projet et versionning\")\n",
    "print(\"Environnement prêt.\")\n"
   ]
  }
 ],
 "metadata": {
  "kernelspec": {
   "display_name": ".venv",
   "language": "python",
   "name": "python3"
  },
  "language_info": {
   "codemirror_mode": {
    "name": "ipython",
    "version": 3
   },
   "file_extension": ".py",
   "mimetype": "text/x-python",
   "name": "python",
   "nbconvert_exporter": "python",
   "pygments_lexer": "ipython3",
   "version": "3.12.7"
  }
 },
 "nbformat": 4,
 "nbformat_minor": 2
}
