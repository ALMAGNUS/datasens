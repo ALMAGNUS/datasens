{
  "cells": [
    {
      "cell_type": "code",
      "execution_count": null,
      "metadata": {},
      "outputs": [],
      "source": [
        "# DataSens E1_v1 - 01_setup_env\n",
        "import sys, os\n",
        "print(sys.version)\n",
        "# Ensure data directories exist\n",
        "for d in [\"data/raw\", \"data/silver\", \"data/gold\", \"data/tmp\", \"logs\", \"docs\"]:\n",
        "    os.makedirs(d, exist_ok=True)\n",
        "print(\"Environment ready.\")\n"
      ]
    }
  ],
  "metadata": {
    "language_info": {
      "name": "python"
    }
  },
  "nbformat": 4,
  "nbformat_minor": 2
}
