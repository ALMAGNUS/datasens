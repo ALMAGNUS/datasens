{
  "cells": [
    {
      "cell_type": "code",
      "execution_count": null,
      "metadata": {},
      "outputs": [],
      "source": [
        "# DataSens E1_v1 - 04_crud_tests\n",
        "from scripts.crud_tests import run_crud_smoke\n",
        "run_crud_smoke()\n"
      ]
    }
  ],
  "metadata": {
    "language_info": {
      "name": "python"
    }
  },
  "nbformat": 4,
  "nbformat_minor": 2
}
