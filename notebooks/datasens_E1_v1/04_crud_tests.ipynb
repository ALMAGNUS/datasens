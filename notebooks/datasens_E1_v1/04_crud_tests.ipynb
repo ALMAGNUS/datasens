{
 "cells": [
  {
   "cell_type": "markdown",
   "metadata": {},
   "source": [
    "# DataSens E1_v1 — 04_crud_tests\n",
    "\n",
    "- Objectifs: démontrer CRUD sur `document` + QA simples\n",
    "- Prérequis: 03_ingest_sources\n",
    "- Vérifs: counts, update, delete, doublons\n",
    "- Guide: docs/GUIDE_TECHNIQUE_E1.md\n",
    "\n"
   ]
  },
  {
   "cell_type": "markdown",
   "metadata": {},
   "source": [
    "> Notes:\n",
    "> - Ouverture de la base SQLite et définition de 4 helpers: CREATE/READ/UPDATE/DELETE.\n",
    "> - `list_documents()` s’appuie sur pandas pour un affichage rapide.\n",
    "> - Ordre de test: lister → insérer → relister → mettre à jour → relister → supprimer.\n",
    "> - But: valider le cycle CRUD avant les analytics.\n"
   ]
  },
  {
   "cell_type": "code",
   "execution_count": null,
   "metadata": {},
   "outputs": [],
   "source": [
    "# DataSens E1_v1 - 04_crud_tests\n",
    "# 🛠️ Utilitaires CRUD pour `document` + test\n",
    "import sqlite3\n",
    "from pathlib import Path\n",
    "\n",
    "import pandas as pd\n",
    "\n",
    "# 1) Ouvrir la base SQLite\n",
    "a = Path.cwd()\n",
    "PROJECT_ROOT = a.parents[2] if (a.name.startswith('datasens_')) else a\n",
    "DB_PATH = PROJECT_ROOT / \"datasens\" / \"datasens.db\"\n",
    "conn = sqlite3.connect(DB_PATH)\n",
    "cur = conn.cursor()\n",
    "\n",
    "# 2) Petit helper pour lire des SELECT dans un DataFrame (affichage pratique)\n",
    "def sql_df(query, params=None):\n",
    "    return pd.read_sql_query(query, conn, params=params)\n",
    "\n",
    "# 3) CREATE: insérer un document rattaché à un flux (traçabilité)\n",
    "def add_document(id_flux, titre, texte, langue, date_publication):\n",
    "    cur.execute(\n",
    "        \"INSERT INTO document (id_flux, titre, texte, langue, date_publication) VALUES (?, ?, ?, ?, ?)\",\n",
    "        (id_flux, titre, texte, langue, date_publication),\n",
    "    )\n",
    "    conn.commit()\n",
    "\n",
    "# 4) READ: lister et lire un document\n",
    "\n",
    "def list_documents():\n",
    "    return sql_df(\"SELECT id_doc, titre, langue, date_publication FROM document;\")\n",
    "\n",
    "def get_document(id_doc):\n",
    "    return sql_df(\"SELECT * FROM document WHERE id_doc = ?\", params=[id_doc])\n",
    "\n",
    "# 5) UPDATE: ne modifie que les champs fournis (mise à jour partielle)\n",
    "\n",
    "def update_document(id_doc, titre=None, texte=None, langue=None, date_publication=None):\n",
    "    updates, params = [], []\n",
    "    if titre is not None:\n",
    "        updates.append(\"titre = ?\"); params.append(titre)\n",
    "    if texte is not None:\n",
    "        updates.append(\"texte = ?\"); params.append(texte)\n",
    "    if langue is not None:\n",
    "        updates.append(\"langue = ?\"); params.append(langue)\n",
    "    if date_publication is not None:\n",
    "        updates.append(\"date_publication = ?\"); params.append(date_publication)\n",
    "    if updates:\n",
    "        params.append(id_doc)\n",
    "        sql = f\"UPDATE document SET {', '.join(updates)} WHERE id_doc = ?\"\n",
    "        cur.execute(sql, params)\n",
    "        conn.commit()\n",
    "\n",
    "# 6) DELETE: suppression d’un document\n",
    "def delete_document(id_doc):\n",
    "    cur.execute(\"DELETE FROM document WHERE id_doc = ?\", (id_doc,))\n",
    "    conn.commit()\n"
   ]
  },
  {
   "cell_type": "code",
   "execution_count": null,
   "metadata": {},
   "outputs": [
    {
     "name": "stdout",
     "output_type": "stream",
     "text": [
      "Using DB: sqlite:///data/tmp/datasens_e1.db\n",
      "CRUD smoke OK\n"
     ]
    }
   ],
   "source": [
    "# 🧪 Test CRUD sur `document`\n",
    "print(\"📄 Documents initiaux :\")\n",
    "try:\n",
    "    display(list_documents())\n",
    "except Exception:\n",
    "    pass\n",
    "\n",
    "print(\"➕ Ajout…\")\n",
    "add_document(1, \"Inflation 2024\", \"Hausse des prix ressentie\", \"fr\", \"2024-09-15\")\n",
    "try:\n",
    "    display(list_documents())\n",
    "except Exception:\n",
    "    pass\n",
    "\n",
    "print(\"✏️ Modification…\")\n",
    "# On suppose que l'ID du dernier document est 2 dans le scénario de démo\n",
    "update_document(2, titre=\"Inflation 2024 (mise a jour)\")\n",
    "try:\n",
    "    display(list_documents())\n",
    "except Exception:\n",
    "    pass\n",
    "\n",
    "print(\"🗑️ Suppression…\")\n",
    "delete_document(2)\n",
    "try:\n",
    "    display(list_documents())\n",
    "except Exception:\n",
    "    pass\n",
    "print(\"CRUD OK\")\n"
   ]
  }
 ],
 "metadata": {
  "kernelspec": {
   "display_name": ".venv",
   "language": "python",
   "name": "python3"
  },
  "language_info": {
   "codemirror_mode": {
    "name": "ipython",
    "version": 3
   },
   "file_extension": ".py",
   "mimetype": "text/x-python",
   "name": "python",
   "nbconvert_exporter": "python",
   "pygments_lexer": "ipython3",
   "version": "3.12.7"
  }
 },
 "nbformat": 4,
 "nbformat_minor": 2
}
