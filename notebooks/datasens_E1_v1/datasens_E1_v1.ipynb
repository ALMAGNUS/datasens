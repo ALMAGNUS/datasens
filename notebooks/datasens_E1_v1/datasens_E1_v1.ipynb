{
 "cells": [
  {
   "cell_type": "markdown",
   "id": "4b4c4f1a",
   "metadata": {},
   "source": [
    "### 🎯 Objectif\n",
    "\n",
    "Créer la structure de dossiers du projet DataSens (data, logs, docs, notebooks…)\n",
    "\n",
    "et initialiser les chemins qui serviront à stocker la base, les sauvegardes et les journaux."
   ]
  },
  {
   "cell_type": "code",
   "execution_count": 53,
   "id": "24eab9c3",
   "metadata": {},
   "outputs": [
    {
     "name": "stdout",
     "output_type": "stream",
     "text": [
      "✅ Structure du projet créée : c:\\Users\\Utilisateur\\Desktop\\Datasens_Project\n"
     ]
    }
   ],
   "source": [
    "from pathlib import Path\n",
    "from datetime import datetime\n",
    "\n",
    "PROJECT_ROOT = Path.cwd()\n",
    "\n",
    "FOLDERS = [\n",
    "    \"datasens\", \"data/raw\", \"data/silver\", \"data/gold\",\n",
    "    \"notebooks\", \"logs\", \"docs\", \"flows\"\n",
    "]\n",
    "\n",
    "for f in FOLDERS:\n",
    "    (PROJECT_ROOT / f).mkdir(parents=True, exist_ok=True)\n",
    "\n",
    "print(\"✅ Structure du projet créée :\", PROJECT_ROOT)"
   ]
  },
  {
   "cell_type": "markdown",
   "id": "7b3c663c",
   "metadata": {},
   "source": [
    "## ✅ Vérification de la structure créée\n",
    "\n",
    "Parcours et affichage de l'arborescence :\n",
    "- Les **dossiers** sont marqués avec `/`\n",
    "- Les **fichiers** apparaissent sans suffixe\n",
    "\n",
    "Permet de valider que tous les répertoires ont bien été créés."
   ]
  },
  {
   "cell_type": "code",
   "execution_count": 7,
   "id": "76b74a17",
   "metadata": {},
   "outputs": [
    {
     "name": "stdout",
     "output_type": "stream",
     "text": [
      ".git/\n",
      ".venv/\n",
      "data/\n",
      "datasens/\n",
      "datasens_E1_v1.ipynb\n",
      "docs/\n",
      "logs/\n",
      "notebooks/\n",
      "README.md\n",
      "requirements.txt\n"
     ]
    }
   ],
   "source": [
    "for item in PROJECT_ROOT.iterdir():\n",
    "    if item.is_dir():\n",
    "        print(f\"{item.name}/\")\n",
    "    else:\n",
    "        print(item.name)"
   ]
  },
  {
   "cell_type": "markdown",
   "id": "4c6ab45b",
   "metadata": {},
   "source": [
    "## 🌳 Visualisation arborescente complète\n",
    "\n",
    "Fonction récursive pour afficher la structure projet en arbre :\n",
    "- Utilise des caractères Unicode (├──, └──, │)\n",
    "- Filtre automatique des dossiers cachés (`.git`, `.venv`...)\n",
    "- Tri intelligent : dossiers d'abord, puis fichiers alphabétiques"
   ]
  },
  {
   "cell_type": "code",
   "execution_count": 18,
   "id": "32b5f729",
   "metadata": {},
   "outputs": [
    {
     "name": "stdout",
     "output_type": "stream",
     "text": [
      "├── data\n",
      "│   ├── gold\n",
      "│   ├── raw\n",
      "│   └── silver\n",
      "├── datasens\n",
      "│   ├── versions\n",
      "│   └── datasens.db\n",
      "├── docs\n",
      "├── logs\n",
      "├── notebooks\n",
      "├── datasens_E1_v1.ipynb\n",
      "├── README.md\n",
      "├── README_VERSIONNING.md\n",
      "└── requirements.txt\n"
     ]
    }
   ],
   "source": [
    "def show_tree(root: Path, prefix=\"\"):\n",
    "    # Filtrer les dossiers cachés comme .git\n",
    "    items = [item for item in root.iterdir() if not item.name.startswith('.')]\n",
    "    items = sorted(items, key=lambda p: (not p.is_dir(), p.name.lower()))\n",
    "    \n",
    "    for i, item in enumerate(items):\n",
    "        last = (i == len(items) - 1)\n",
    "        connector = \"└── \" if last else \"├── \"\n",
    "        print(prefix + connector + item.name)\n",
    "        \n",
    "        if item.is_dir() and not item.name.startswith('.'):\n",
    "            show_tree(item, prefix + (\"    \" if last else \"│   \"))\n",
    "\n",
    "show_tree(PROJECT_ROOT)"
   ]
  },
  {
   "cell_type": "markdown",
   "id": "0841190a",
   "metadata": {},
   "source": [
    "## 📝 Mise en place du système de versioning\n",
    "\n",
    "Création de l'historique projet avec traçabilité :\n",
    "- **README_VERSIONNING.md** : Journal des modifications horodaté\n",
    "- **datasens/versions/** : Dossier pour snapshots de la base\n",
    "- Fonction `log_version()` pour logger automatiquement chaque action"
   ]
  },
  {
   "cell_type": "code",
   "execution_count": null,
   "id": "4b138f63",
   "metadata": {},
   "outputs": [
    {
     "name": "stdout",
     "output_type": "stream",
     "text": [
      "🕒 Log : INIT\n"
     ]
    }
   ],
   "source": [
    "import shutil\n",
    "\n",
    "VERSION_FILE = PROJECT_ROOT / \"README_VERSIONNING.md\"\n",
    "BACKUP_DIR = PROJECT_ROOT / \"datasens\" / \"versions\"\n",
    "\n",
    "BACKUP_DIR.mkdir(exist_ok=True)\n",
    "\n",
    "def log_version(action: str, details: str = \"\"):\n",
    "    now = datetime.now().strftime(\"%Y-%m-%d %H:%M:%S\")\n",
    "    entry = f\"- **{now}** | `{action}` | {details}\\n\"\n",
    "    \n",
    "    with open(VERSION_FILE, \"a\", encoding=\"utf-8\") as f:\n",
    "        f.write(entry)\n",
    "    \n",
    "    print(f\"🕒 Log : {action}\")\n",
    "\n",
    "log_version(\"INIT\", \"Création de la structure projet et versionning\")"
   ]
  },
  {
   "cell_type": "markdown",
   "id": "34fe2bda",
   "metadata": {},
   "source": [
    "## 💾 Création de la base de données SQLite\n",
    "\n",
    "Initialisation de la base locale `datasens.db` dans le dossier `datasens/` :\n",
    "- **SQLite** : Base embarquée légère pour prototypage rapide\n",
    "- Emplacement : `datasens/datasens.db`\n",
    "- Log automatique de la création dans le fichier de versioning"
   ]
  },
  {
   "cell_type": "code",
   "execution_count": 20,
   "id": "86a4d4d6",
   "metadata": {},
   "outputs": [
    {
     "name": "stdout",
     "output_type": "stream",
     "text": [
      "✅ Base SQLite prête : c:\\Users\\Utilisateur\\Desktop\\Datasens_Project\\datasens\\datasens.db\n",
      "🕒 Log : DB_INIT\n"
     ]
    }
   ],
   "source": [
    "import sqlite3\n",
    "\n",
    "DB_PATH = PROJECT_ROOT / \"datasens\" / \"datasens.db\"\n",
    "\n",
    "conn = sqlite3.connect(DB_PATH)\n",
    "cur = conn.cursor()\n",
    "\n",
    "print(f\"✅ Base SQLite prête : {DB_PATH}\")\n",
    "\n",
    "log_version(\"DB_INIT\", \"Initialisation de la base SQLite vide\")"
   ]
  },
  {
   "cell_type": "markdown",
   "id": "59e56b32",
   "metadata": {},
   "source": [
    "## 🗄️ Déploiement du schéma Merise (18 tables)\n",
    "\n",
    "Création de la structure relationnelle complète :\n",
    "\n",
    "**Collecte & traçabilité** : `type_donnee`, `source`, `flux`, `document`  \n",
    "**Géographie** : `pays`, `region`, `departement`, `commune`, `territoire`  \n",
    "**Données métier** : `meteo`, `indicateur`, `type_indicateur`, `evenement`, `theme`  \n",
    "**Annotation & IA** : `utilisateur`, `emotion`, `annotation`, `document_evenement`\n",
    "\n",
    "Contraintes : clés primaires AUTO_INCREMENT, foreign keys avec CASCADE."
   ]
  },
  {
   "cell_type": "code",
   "execution_count": 21,
   "id": "065d884e",
   "metadata": {},
   "outputs": [
    {
     "name": "stdout",
     "output_type": "stream",
     "text": [
      "✅ Table : type_donnee\n",
      "✅ Table : source\n",
      "✅ Table : flux\n",
      "✅ Table : document\n",
      "✅ Table : pays\n",
      "✅ Table : region\n",
      "✅ Table : departement\n",
      "✅ Table : commune\n",
      "✅ Table : territoire\n",
      "✅ Table : type_indicateur\n",
      "✅ Table : indicateur\n",
      "✅ Table : meteo\n",
      "✅ Table : utilisateur\n",
      "✅ Table : emotion\n",
      "✅ Table : annotation\n",
      "✅ Table : theme\n",
      "✅ Table : evenement\n",
      "✅ Table : document_evenement\n",
      "🕒 Log : DB_SCHEMA\n"
     ]
    }
   ],
   "source": [
    "TABLES_SQL = {\n",
    "    \"type_donnee\": \"\"\"\n",
    "    CREATE TABLE IF NOT EXISTS type_donnee (\n",
    "        id_type_donnee INTEGER PRIMARY KEY AUTOINCREMENT,\n",
    "        libelle TEXT, description TEXT,\n",
    "        frequence_maj TEXT, categorie_metier TEXT\n",
    "    );\"\"\",\n",
    "    \n",
    "    \"source\": \"\"\"\n",
    "    CREATE TABLE IF NOT EXISTS source (\n",
    "        id_source INTEGER PRIMARY KEY AUTOINCREMENT,\n",
    "        id_type_donnee INTEGER,\n",
    "        nom TEXT, url TEXT, fiabilite REAL,\n",
    "        FOREIGN KEY (id_type_donnee) REFERENCES type_donnee(id_type_donnee)\n",
    "    );\"\"\",\n",
    "    \n",
    "    \"flux\": \"\"\"\n",
    "    CREATE TABLE IF NOT EXISTS flux (\n",
    "        id_flux INTEGER PRIMARY KEY AUTOINCREMENT,\n",
    "        id_source INTEGER, date_collecte TEXT, format TEXT, manifest_uri TEXT,\n",
    "        FOREIGN KEY (id_source) REFERENCES source(id_source)\n",
    "    );\"\"\",\n",
    "    \n",
    "    \"document\": \"\"\"\n",
    "    CREATE TABLE IF NOT EXISTS document (\n",
    "        id_doc INTEGER PRIMARY KEY AUTOINCREMENT,\n",
    "        id_flux INTEGER, titre TEXT, texte TEXT, langue TEXT, date_publication TEXT,\n",
    "        FOREIGN KEY (id_flux) REFERENCES flux(id_flux)\n",
    "    );\"\"\",\n",
    "    \n",
    "    \"pays\": \"CREATE TABLE IF NOT EXISTS pays (id_pays INTEGER PRIMARY KEY AUTOINCREMENT, nom TEXT);\",\n",
    "    \"region\": \"CREATE TABLE IF NOT EXISTS region (id_region INTEGER PRIMARY KEY AUTOINCREMENT, id_pays INTEGER, nom TEXT, FOREIGN KEY (id_pays) REFERENCES pays(id_pays));\",\n",
    "    \"departement\": \"CREATE TABLE IF NOT EXISTS departement (id_departement INTEGER PRIMARY KEY AUTOINCREMENT, id_region INTEGER, code_dept TEXT, nom TEXT, FOREIGN KEY (id_region) REFERENCES region(id_region));\",\n",
    "    \"commune\": \"CREATE TABLE IF NOT EXISTS commune (id_commune INTEGER PRIMARY KEY AUTOINCREMENT, id_departement INTEGER, code_insee TEXT, nom_commune TEXT, lat REAL, lon REAL, population INTEGER, FOREIGN KEY (id_departement) REFERENCES departement(id_departement));\",\n",
    "    \"territoire\": \"CREATE TABLE IF NOT EXISTS territoire (id_territoire INTEGER PRIMARY KEY AUTOINCREMENT, id_commune INTEGER, FOREIGN KEY (id_commune) REFERENCES commune(id_commune));\",\n",
    "    \"type_indicateur\": \"CREATE TABLE IF NOT EXISTS type_indicateur (id_type_indic INTEGER PRIMARY KEY AUTOINCREMENT, code TEXT, libelle TEXT, unite TEXT);\",\n",
    "    \"indicateur\": \"CREATE TABLE IF NOT EXISTS indicateur (id_indic INTEGER PRIMARY KEY AUTOINCREMENT, id_territoire INTEGER, id_type_indic INTEGER, valeur REAL, annee INTEGER, FOREIGN KEY (id_territoire) REFERENCES territoire(id_territoire), FOREIGN KEY (id_type_indic) REFERENCES type_indicateur(id_type_indic));\",\n",
    "    \"meteo\": \"CREATE TABLE IF NOT EXISTS meteo (id_meteo INTEGER PRIMARY KEY AUTOINCREMENT, id_territoire INTEGER, date_obs TEXT, temperature REAL, humidite REAL, vent_kmh REAL, pression REAL, FOREIGN KEY (id_territoire) REFERENCES territoire(id_territoire));\",\n",
    "    \"utilisateur\": \"CREATE TABLE IF NOT EXISTS utilisateur (id_user INTEGER PRIMARY KEY AUTOINCREMENT, nom TEXT, role TEXT, organisation TEXT);\",\n",
    "    \"emotion\": \"CREATE TABLE IF NOT EXISTS emotion (id_emotion INTEGER PRIMARY KEY AUTOINCREMENT, type_emotion TEXT, valence TEXT, score_confiance REAL);\",\n",
    "    \"annotation\": \"CREATE TABLE IF NOT EXISTS annotation (id_annotation INTEGER PRIMARY KEY AUTOINCREMENT, id_doc INTEGER, id_user INTEGER, id_emotion INTEGER, intensity REAL, polarity TEXT, date_annotation TEXT, FOREIGN KEY (id_doc) REFERENCES document(id_doc), FOREIGN KEY (id_user) REFERENCES utilisateur(id_user), FOREIGN KEY (id_emotion) REFERENCES emotion(id_emotion));\",\n",
    "    \"theme\": \"CREATE TABLE IF NOT EXISTS theme (id_theme INTEGER PRIMARY KEY AUTOINCREMENT, libelle TEXT, description TEXT);\",\n",
    "    \"evenement\": \"CREATE TABLE IF NOT EXISTS evenement (id_event INTEGER PRIMARY KEY AUTOINCREMENT, id_theme INTEGER, date_event TEXT, avg_tone REAL, source_event TEXT, FOREIGN KEY (id_theme) REFERENCES theme(id_theme));\",\n",
    "    \"document_evenement\": \"CREATE TABLE IF NOT EXISTS document_evenement (id_doc INTEGER, id_event INTEGER, PRIMARY KEY (id_doc, id_event), FOREIGN KEY (id_doc) REFERENCES document(id_doc), FOREIGN KEY (id_event) REFERENCES evenement(id_event));\"\n",
    "}\n",
    "\n",
    "for name, sql in TABLES_SQL.items():\n",
    "    cur.execute(sql)\n",
    "    print(f\"✅ Table : {name}\")\n",
    "\n",
    "conn.commit()\n",
    "\n",
    "log_version(\"DB_SCHEMA\", \"Création des 18 tables principales\")"
   ]
  },
  {
   "cell_type": "markdown",
   "id": "01c26d7f",
   "metadata": {},
   "source": [
    "## 🌱 Bootstrap : Insertion de données de test\n",
    "\n",
    "Peuplement initial pour valider les relations entre tables :\n",
    "- 1 type de donnée (Fichier Kaggle)\n",
    "- 1 source (Kaggle CSV — FR textes)\n",
    "- 1 flux de collecte (horodaté)\n",
    "- 1 document exemple (\"JO 2024 : fierté nationale\")\n",
    "\n",
    "Permet de tester les jointures et les clés étrangères."
   ]
  },
  {
   "cell_type": "code",
   "execution_count": 22,
   "id": "83d699fe",
   "metadata": {},
   "outputs": [
    {
     "name": "stdout",
     "output_type": "stream",
     "text": [
      "🕒 Log : DB_SEED\n",
      "🌱 Données de test insérées.\n"
     ]
    }
   ],
   "source": [
    "cur.executescript(\"\"\"\n",
    "INSERT INTO type_donnee (libelle, description, frequence_maj, categorie_metier)\n",
    "VALUES ('Fichier','CSV Kaggle','hebdomadaire','descriptive');\n",
    "\n",
    "INSERT INTO source (id_type_donnee, nom, url, fiabilite)\n",
    "VALUES (1,'Kaggle CSV – FR textes','https://kaggle.com/xxx',0.8);\n",
    "\n",
    "INSERT INTO flux (id_source, date_collecte, format, manifest_uri)\n",
    "VALUES (1,'2025-10-27T10:00:00','csv','data/raw/kaggle/sample.csv');\n",
    "\n",
    "INSERT INTO document (id_flux, titre, texte, langue, date_publication)\n",
    "VALUES (1,'JO 2024 : fierté nationale','Les JO ont boosté le moral','fr','2024-07-27');\n",
    "\"\"\")\n",
    "\n",
    "conn.commit()\n",
    "\n",
    "log_version(\"DB_SEED\", \"Insertion du jeu de données minimal\")\n",
    "\n",
    "print(\"🌱 Données de test insérées.\")"
   ]
  },
  {
   "cell_type": "markdown",
   "id": "ee98133b",
   "metadata": {},
   "source": [
    "## 🛠️ Utilitaires CRUD pour la table `document`\n",
    "\n",
    "Création de fonctions helpers pour manipuler les documents :\n",
    "\n",
    "**CREATE** : `add_document()` — Insertion avec log automatique  \n",
    "**READ** : `list_documents()`, `get_document(id)` — Lecture via Pandas  \n",
    "**UPDATE** : `update_document()` — Modification dynamique des champs  \n",
    "**DELETE** : `delete_document()` — Suppression avec traçabilité\n",
    "\n",
    "Pattern classique pour abstraction de la couche SQL."
   ]
  },
  {
   "cell_type": "code",
   "execution_count": 23,
   "id": "96f1587d",
   "metadata": {},
   "outputs": [],
   "source": [
    "import pandas as pd\n",
    "\n",
    "def sql_df(query, params=None):\n",
    "    return pd.read_sql_query(query, conn, params=params)\n",
    "\n",
    "# CREATE\n",
    "def add_document(id_flux, titre, texte, langue, date_publication):\n",
    "    cur.execute(\"INSERT INTO document (id_flux, titre, texte, langue, date_publication) VALUES (?, ?, ?, ?, ?)\",\n",
    "                (id_flux, titre, texte, langue, date_publication))\n",
    "    conn.commit()\n",
    "    log_version(\"ADD_DOC\", titre)\n",
    "\n",
    "# READ\n",
    "def list_documents():\n",
    "    return sql_df(\"SELECT id_doc, titre, langue, date_publication FROM document;\")\n",
    "\n",
    "def get_document(id_doc):\n",
    "    return sql_df(\"SELECT * FROM document WHERE id_doc = ?\", params=[id_doc])\n",
    "\n",
    "# UPDATE\n",
    "def update_document(id_doc, titre=None, texte=None, langue=None, date_publication=None):\n",
    "    updates = []\n",
    "    params = []\n",
    "    \n",
    "    if titre is not None:\n",
    "        updates.append(\"titre = ?\")\n",
    "        params.append(titre)\n",
    "    if texte is not None:\n",
    "        updates.append(\"texte = ?\")\n",
    "        params.append(texte)\n",
    "    if langue is not None:\n",
    "        updates.append(\"langue = ?\")\n",
    "        params.append(langue)\n",
    "    if date_publication is not None:\n",
    "        updates.append(\"date_publication = ?\")\n",
    "        params.append(date_publication)\n",
    "    \n",
    "    if updates:\n",
    "        params.append(id_doc)\n",
    "        sql = f\"UPDATE document SET {', '.join(updates)} WHERE id_doc = ?\"\n",
    "        cur.execute(sql, params)\n",
    "        conn.commit()\n",
    "        log_version(\"UPDATE_DOC\", f\"id={id_doc}\")\n",
    "\n",
    "# DELETE\n",
    "def delete_document(id_doc):\n",
    "    cur.execute(\"DELETE FROM document WHERE id_doc = ?\", (id_doc,))\n",
    "    conn.commit()\n",
    "    log_version(\"DELETE_DOC\", f\"id={id_doc}\")"
   ]
  },
  {
   "cell_type": "markdown",
   "id": "04969c53",
   "metadata": {},
   "source": [
    "## 🧪 Test des opérations CRUD\n",
    "\n",
    "Validation fonctionnelle des utilitaires :\n",
    "1. **Lecture** des documents initiaux\n",
    "2. **Ajout** d'un nouveau document (\"Inflation 2024\")\n",
    "3. **Modification** du titre (mise à jour)\n",
    "4. **Suppression** du document ajouté\n",
    "\n",
    "Affichage progressif avec `display()` pour observer les changements."
   ]
  },
  {
   "cell_type": "code",
   "execution_count": 24,
   "id": "31272532",
   "metadata": {},
   "outputs": [
    {
     "name": "stdout",
     "output_type": "stream",
     "text": [
      "📄 Documents initiaux :\n"
     ]
    },
    {
     "data": {
      "application/vnd.microsoft.datawrangler.viewer.v0+json": {
       "columns": [
        {
         "name": "index",
         "rawType": "int64",
         "type": "integer"
        },
        {
         "name": "id_doc",
         "rawType": "int64",
         "type": "integer"
        },
        {
         "name": "titre",
         "rawType": "object",
         "type": "string"
        },
        {
         "name": "langue",
         "rawType": "object",
         "type": "string"
        },
        {
         "name": "date_publication",
         "rawType": "object",
         "type": "string"
        }
       ],
       "ref": "32971665-b5ca-4d1b-be7b-fc62e1b3d5f4",
       "rows": [
        [
         "0",
         "1",
         "JO 2024 : fierté nationale",
         "fr",
         "2024-07-27"
        ],
        [
         "1",
         "2",
         "Inflation 2024",
         "fr",
         "2024-09-15"
        ],
        [
         "2",
         "3",
         "Inflation 2024",
         "fr",
         "2024-09-15"
        ],
        [
         "3",
         "4",
         "JO 2024 : fierté nationale",
         "fr",
         "2024-07-27"
        ]
       ],
       "shape": {
        "columns": 4,
        "rows": 4
       }
      },
      "text/html": [
       "<div>\n",
       "<style scoped>\n",
       "    .dataframe tbody tr th:only-of-type {\n",
       "        vertical-align: middle;\n",
       "    }\n",
       "\n",
       "    .dataframe tbody tr th {\n",
       "        vertical-align: top;\n",
       "    }\n",
       "\n",
       "    .dataframe thead th {\n",
       "        text-align: right;\n",
       "    }\n",
       "</style>\n",
       "<table border=\"1\" class=\"dataframe\">\n",
       "  <thead>\n",
       "    <tr style=\"text-align: right;\">\n",
       "      <th></th>\n",
       "      <th>id_doc</th>\n",
       "      <th>titre</th>\n",
       "      <th>langue</th>\n",
       "      <th>date_publication</th>\n",
       "    </tr>\n",
       "  </thead>\n",
       "  <tbody>\n",
       "    <tr>\n",
       "      <th>0</th>\n",
       "      <td>1</td>\n",
       "      <td>JO 2024 : fierté nationale</td>\n",
       "      <td>fr</td>\n",
       "      <td>2024-07-27</td>\n",
       "    </tr>\n",
       "    <tr>\n",
       "      <th>1</th>\n",
       "      <td>2</td>\n",
       "      <td>Inflation 2024</td>\n",
       "      <td>fr</td>\n",
       "      <td>2024-09-15</td>\n",
       "    </tr>\n",
       "    <tr>\n",
       "      <th>2</th>\n",
       "      <td>3</td>\n",
       "      <td>Inflation 2024</td>\n",
       "      <td>fr</td>\n",
       "      <td>2024-09-15</td>\n",
       "    </tr>\n",
       "    <tr>\n",
       "      <th>3</th>\n",
       "      <td>4</td>\n",
       "      <td>JO 2024 : fierté nationale</td>\n",
       "      <td>fr</td>\n",
       "      <td>2024-07-27</td>\n",
       "    </tr>\n",
       "  </tbody>\n",
       "</table>\n",
       "</div>"
      ],
      "text/plain": [
       "   id_doc                       titre langue date_publication\n",
       "0       1  JO 2024 : fierté nationale     fr       2024-07-27\n",
       "1       2              Inflation 2024     fr       2024-09-15\n",
       "2       3              Inflation 2024     fr       2024-09-15\n",
       "3       4  JO 2024 : fierté nationale     fr       2024-07-27"
      ]
     },
     "metadata": {},
     "output_type": "display_data"
    },
    {
     "name": "stdout",
     "output_type": "stream",
     "text": [
      "➕ Ajout…\n",
      "🕒 Log : ADD_DOC\n"
     ]
    },
    {
     "data": {
      "application/vnd.microsoft.datawrangler.viewer.v0+json": {
       "columns": [
        {
         "name": "index",
         "rawType": "int64",
         "type": "integer"
        },
        {
         "name": "id_doc",
         "rawType": "int64",
         "type": "integer"
        },
        {
         "name": "titre",
         "rawType": "object",
         "type": "string"
        },
        {
         "name": "langue",
         "rawType": "object",
         "type": "string"
        },
        {
         "name": "date_publication",
         "rawType": "object",
         "type": "string"
        }
       ],
       "ref": "77c20611-6d27-47a6-9d9e-6a7c82550dab",
       "rows": [
        [
         "0",
         "1",
         "JO 2024 : fierté nationale",
         "fr",
         "2024-07-27"
        ],
        [
         "1",
         "2",
         "Inflation 2024",
         "fr",
         "2024-09-15"
        ],
        [
         "2",
         "3",
         "Inflation 2024",
         "fr",
         "2024-09-15"
        ],
        [
         "3",
         "4",
         "JO 2024 : fierté nationale",
         "fr",
         "2024-07-27"
        ],
        [
         "4",
         "5",
         "Inflation 2024",
         "fr",
         "2024-09-15"
        ]
       ],
       "shape": {
        "columns": 4,
        "rows": 5
       }
      },
      "text/html": [
       "<div>\n",
       "<style scoped>\n",
       "    .dataframe tbody tr th:only-of-type {\n",
       "        vertical-align: middle;\n",
       "    }\n",
       "\n",
       "    .dataframe tbody tr th {\n",
       "        vertical-align: top;\n",
       "    }\n",
       "\n",
       "    .dataframe thead th {\n",
       "        text-align: right;\n",
       "    }\n",
       "</style>\n",
       "<table border=\"1\" class=\"dataframe\">\n",
       "  <thead>\n",
       "    <tr style=\"text-align: right;\">\n",
       "      <th></th>\n",
       "      <th>id_doc</th>\n",
       "      <th>titre</th>\n",
       "      <th>langue</th>\n",
       "      <th>date_publication</th>\n",
       "    </tr>\n",
       "  </thead>\n",
       "  <tbody>\n",
       "    <tr>\n",
       "      <th>0</th>\n",
       "      <td>1</td>\n",
       "      <td>JO 2024 : fierté nationale</td>\n",
       "      <td>fr</td>\n",
       "      <td>2024-07-27</td>\n",
       "    </tr>\n",
       "    <tr>\n",
       "      <th>1</th>\n",
       "      <td>2</td>\n",
       "      <td>Inflation 2024</td>\n",
       "      <td>fr</td>\n",
       "      <td>2024-09-15</td>\n",
       "    </tr>\n",
       "    <tr>\n",
       "      <th>2</th>\n",
       "      <td>3</td>\n",
       "      <td>Inflation 2024</td>\n",
       "      <td>fr</td>\n",
       "      <td>2024-09-15</td>\n",
       "    </tr>\n",
       "    <tr>\n",
       "      <th>3</th>\n",
       "      <td>4</td>\n",
       "      <td>JO 2024 : fierté nationale</td>\n",
       "      <td>fr</td>\n",
       "      <td>2024-07-27</td>\n",
       "    </tr>\n",
       "    <tr>\n",
       "      <th>4</th>\n",
       "      <td>5</td>\n",
       "      <td>Inflation 2024</td>\n",
       "      <td>fr</td>\n",
       "      <td>2024-09-15</td>\n",
       "    </tr>\n",
       "  </tbody>\n",
       "</table>\n",
       "</div>"
      ],
      "text/plain": [
       "   id_doc                       titre langue date_publication\n",
       "0       1  JO 2024 : fierté nationale     fr       2024-07-27\n",
       "1       2              Inflation 2024     fr       2024-09-15\n",
       "2       3              Inflation 2024     fr       2024-09-15\n",
       "3       4  JO 2024 : fierté nationale     fr       2024-07-27\n",
       "4       5              Inflation 2024     fr       2024-09-15"
      ]
     },
     "metadata": {},
     "output_type": "display_data"
    },
    {
     "name": "stdout",
     "output_type": "stream",
     "text": [
      "✏️ Modification…\n",
      "🕒 Log : UPDATE_DOC\n"
     ]
    },
    {
     "data": {
      "application/vnd.microsoft.datawrangler.viewer.v0+json": {
       "columns": [
        {
         "name": "index",
         "rawType": "int64",
         "type": "integer"
        },
        {
         "name": "id_doc",
         "rawType": "int64",
         "type": "integer"
        },
        {
         "name": "titre",
         "rawType": "object",
         "type": "string"
        },
        {
         "name": "langue",
         "rawType": "object",
         "type": "string"
        },
        {
         "name": "date_publication",
         "rawType": "object",
         "type": "string"
        }
       ],
       "ref": "b1e01f67-f884-459c-8c28-e33936e4a93b",
       "rows": [
        [
         "0",
         "1",
         "JO 2024 : fierté nationale",
         "fr",
         "2024-07-27"
        ],
        [
         "1",
         "2",
         "Inflation 2024 (mise a jour)",
         "fr",
         "2024-09-15"
        ],
        [
         "2",
         "3",
         "Inflation 2024",
         "fr",
         "2024-09-15"
        ],
        [
         "3",
         "4",
         "JO 2024 : fierté nationale",
         "fr",
         "2024-07-27"
        ],
        [
         "4",
         "5",
         "Inflation 2024",
         "fr",
         "2024-09-15"
        ]
       ],
       "shape": {
        "columns": 4,
        "rows": 5
       }
      },
      "text/html": [
       "<div>\n",
       "<style scoped>\n",
       "    .dataframe tbody tr th:only-of-type {\n",
       "        vertical-align: middle;\n",
       "    }\n",
       "\n",
       "    .dataframe tbody tr th {\n",
       "        vertical-align: top;\n",
       "    }\n",
       "\n",
       "    .dataframe thead th {\n",
       "        text-align: right;\n",
       "    }\n",
       "</style>\n",
       "<table border=\"1\" class=\"dataframe\">\n",
       "  <thead>\n",
       "    <tr style=\"text-align: right;\">\n",
       "      <th></th>\n",
       "      <th>id_doc</th>\n",
       "      <th>titre</th>\n",
       "      <th>langue</th>\n",
       "      <th>date_publication</th>\n",
       "    </tr>\n",
       "  </thead>\n",
       "  <tbody>\n",
       "    <tr>\n",
       "      <th>0</th>\n",
       "      <td>1</td>\n",
       "      <td>JO 2024 : fierté nationale</td>\n",
       "      <td>fr</td>\n",
       "      <td>2024-07-27</td>\n",
       "    </tr>\n",
       "    <tr>\n",
       "      <th>1</th>\n",
       "      <td>2</td>\n",
       "      <td>Inflation 2024 (mise a jour)</td>\n",
       "      <td>fr</td>\n",
       "      <td>2024-09-15</td>\n",
       "    </tr>\n",
       "    <tr>\n",
       "      <th>2</th>\n",
       "      <td>3</td>\n",
       "      <td>Inflation 2024</td>\n",
       "      <td>fr</td>\n",
       "      <td>2024-09-15</td>\n",
       "    </tr>\n",
       "    <tr>\n",
       "      <th>3</th>\n",
       "      <td>4</td>\n",
       "      <td>JO 2024 : fierté nationale</td>\n",
       "      <td>fr</td>\n",
       "      <td>2024-07-27</td>\n",
       "    </tr>\n",
       "    <tr>\n",
       "      <th>4</th>\n",
       "      <td>5</td>\n",
       "      <td>Inflation 2024</td>\n",
       "      <td>fr</td>\n",
       "      <td>2024-09-15</td>\n",
       "    </tr>\n",
       "  </tbody>\n",
       "</table>\n",
       "</div>"
      ],
      "text/plain": [
       "   id_doc                         titre langue date_publication\n",
       "0       1    JO 2024 : fierté nationale     fr       2024-07-27\n",
       "1       2  Inflation 2024 (mise a jour)     fr       2024-09-15\n",
       "2       3                Inflation 2024     fr       2024-09-15\n",
       "3       4    JO 2024 : fierté nationale     fr       2024-07-27\n",
       "4       5                Inflation 2024     fr       2024-09-15"
      ]
     },
     "metadata": {},
     "output_type": "display_data"
    },
    {
     "name": "stdout",
     "output_type": "stream",
     "text": [
      "🗑️ Suppression…\n",
      "🕒 Log : DELETE_DOC\n"
     ]
    },
    {
     "data": {
      "application/vnd.microsoft.datawrangler.viewer.v0+json": {
       "columns": [
        {
         "name": "index",
         "rawType": "int64",
         "type": "integer"
        },
        {
         "name": "id_doc",
         "rawType": "int64",
         "type": "integer"
        },
        {
         "name": "titre",
         "rawType": "object",
         "type": "string"
        },
        {
         "name": "langue",
         "rawType": "object",
         "type": "string"
        },
        {
         "name": "date_publication",
         "rawType": "object",
         "type": "string"
        }
       ],
       "ref": "f201909c-b492-42a5-ba0c-2fbe231d801e",
       "rows": [
        [
         "0",
         "1",
         "JO 2024 : fierté nationale",
         "fr",
         "2024-07-27"
        ],
        [
         "1",
         "3",
         "Inflation 2024",
         "fr",
         "2024-09-15"
        ],
        [
         "2",
         "4",
         "JO 2024 : fierté nationale",
         "fr",
         "2024-07-27"
        ],
        [
         "3",
         "5",
         "Inflation 2024",
         "fr",
         "2024-09-15"
        ]
       ],
       "shape": {
        "columns": 4,
        "rows": 4
       }
      },
      "text/html": [
       "<div>\n",
       "<style scoped>\n",
       "    .dataframe tbody tr th:only-of-type {\n",
       "        vertical-align: middle;\n",
       "    }\n",
       "\n",
       "    .dataframe tbody tr th {\n",
       "        vertical-align: top;\n",
       "    }\n",
       "\n",
       "    .dataframe thead th {\n",
       "        text-align: right;\n",
       "    }\n",
       "</style>\n",
       "<table border=\"1\" class=\"dataframe\">\n",
       "  <thead>\n",
       "    <tr style=\"text-align: right;\">\n",
       "      <th></th>\n",
       "      <th>id_doc</th>\n",
       "      <th>titre</th>\n",
       "      <th>langue</th>\n",
       "      <th>date_publication</th>\n",
       "    </tr>\n",
       "  </thead>\n",
       "  <tbody>\n",
       "    <tr>\n",
       "      <th>0</th>\n",
       "      <td>1</td>\n",
       "      <td>JO 2024 : fierté nationale</td>\n",
       "      <td>fr</td>\n",
       "      <td>2024-07-27</td>\n",
       "    </tr>\n",
       "    <tr>\n",
       "      <th>1</th>\n",
       "      <td>3</td>\n",
       "      <td>Inflation 2024</td>\n",
       "      <td>fr</td>\n",
       "      <td>2024-09-15</td>\n",
       "    </tr>\n",
       "    <tr>\n",
       "      <th>2</th>\n",
       "      <td>4</td>\n",
       "      <td>JO 2024 : fierté nationale</td>\n",
       "      <td>fr</td>\n",
       "      <td>2024-07-27</td>\n",
       "    </tr>\n",
       "    <tr>\n",
       "      <th>3</th>\n",
       "      <td>5</td>\n",
       "      <td>Inflation 2024</td>\n",
       "      <td>fr</td>\n",
       "      <td>2024-09-15</td>\n",
       "    </tr>\n",
       "  </tbody>\n",
       "</table>\n",
       "</div>"
      ],
      "text/plain": [
       "   id_doc                       titre langue date_publication\n",
       "0       1  JO 2024 : fierté nationale     fr       2024-07-27\n",
       "1       3              Inflation 2024     fr       2024-09-15\n",
       "2       4  JO 2024 : fierté nationale     fr       2024-07-27\n",
       "3       5              Inflation 2024     fr       2024-09-15"
      ]
     },
     "metadata": {},
     "output_type": "display_data"
    }
   ],
   "source": [
    "print(\"📄 Documents initiaux :\")\n",
    "display(list_documents())\n",
    "\n",
    "print(\"➕ Ajout…\")\n",
    "add_document(1, \"Inflation 2024\", \"Hausse des prix ressentie\", \"fr\", \"2024-09-15\")\n",
    "display(list_documents())\n",
    "\n",
    "print(\"✏️ Modification…\")\n",
    "update_document(2, titre=\"Inflation 2024 (mise a jour)\")\n",
    "display(list_documents())\n",
    "\n",
    "print(\"🗑️ Suppression…\")\n",
    "delete_document(2)\n",
    "display(list_documents())"
   ]
  },
  {
   "cell_type": "markdown",
   "id": "0031cc7e",
   "metadata": {},
   "source": [
    "## 📊 Inspection des tables de collecte\n",
    "\n",
    "Visualisation des 4 tables cœur du système de traçabilité :\n",
    "\n",
    "**type_donnee** → Typologie des sources (Fichier, API, RSS...)  \n",
    "**source** → Provenance avec URL et score de fiabilité  \n",
    "**flux** → Collectes horodatées avec manifestes  \n",
    "**document** → Contenu final consommable\n",
    "\n",
    "Validation visuelle de la cohérence des IDs et des relations."
   ]
  },
  {
   "cell_type": "code",
   "execution_count": 25,
   "id": "1b55d615",
   "metadata": {},
   "outputs": [
    {
     "name": "stdout",
     "output_type": "stream",
     "text": [
      "\n",
      "🧱 Table : type_donnee\n"
     ]
    },
    {
     "data": {
      "application/vnd.microsoft.datawrangler.viewer.v0+json": {
       "columns": [
        {
         "name": "index",
         "rawType": "int64",
         "type": "integer"
        },
        {
         "name": "id_type_donnee",
         "rawType": "int64",
         "type": "integer"
        },
        {
         "name": "libelle",
         "rawType": "object",
         "type": "string"
        },
        {
         "name": "description",
         "rawType": "object",
         "type": "string"
        },
        {
         "name": "frequence_maj",
         "rawType": "object",
         "type": "string"
        },
        {
         "name": "categorie_metier",
         "rawType": "object",
         "type": "string"
        }
       ],
       "ref": "5e6fc5bf-0d4e-459e-9dcf-3e33dafc44ce",
       "rows": [
        [
         "0",
         "1",
         "Fichier",
         "CSV Kaggle",
         "hebdomadaire",
         "descriptive"
        ],
        [
         "1",
         "2",
         "Fichier",
         "CSV Kaggle",
         "hebdomadaire",
         "descriptive"
        ]
       ],
       "shape": {
        "columns": 5,
        "rows": 2
       }
      },
      "text/html": [
       "<div>\n",
       "<style scoped>\n",
       "    .dataframe tbody tr th:only-of-type {\n",
       "        vertical-align: middle;\n",
       "    }\n",
       "\n",
       "    .dataframe tbody tr th {\n",
       "        vertical-align: top;\n",
       "    }\n",
       "\n",
       "    .dataframe thead th {\n",
       "        text-align: right;\n",
       "    }\n",
       "</style>\n",
       "<table border=\"1\" class=\"dataframe\">\n",
       "  <thead>\n",
       "    <tr style=\"text-align: right;\">\n",
       "      <th></th>\n",
       "      <th>id_type_donnee</th>\n",
       "      <th>libelle</th>\n",
       "      <th>description</th>\n",
       "      <th>frequence_maj</th>\n",
       "      <th>categorie_metier</th>\n",
       "    </tr>\n",
       "  </thead>\n",
       "  <tbody>\n",
       "    <tr>\n",
       "      <th>0</th>\n",
       "      <td>1</td>\n",
       "      <td>Fichier</td>\n",
       "      <td>CSV Kaggle</td>\n",
       "      <td>hebdomadaire</td>\n",
       "      <td>descriptive</td>\n",
       "    </tr>\n",
       "    <tr>\n",
       "      <th>1</th>\n",
       "      <td>2</td>\n",
       "      <td>Fichier</td>\n",
       "      <td>CSV Kaggle</td>\n",
       "      <td>hebdomadaire</td>\n",
       "      <td>descriptive</td>\n",
       "    </tr>\n",
       "  </tbody>\n",
       "</table>\n",
       "</div>"
      ],
      "text/plain": [
       "   id_type_donnee  libelle description frequence_maj categorie_metier\n",
       "0               1  Fichier  CSV Kaggle  hebdomadaire      descriptive\n",
       "1               2  Fichier  CSV Kaggle  hebdomadaire      descriptive"
      ]
     },
     "metadata": {},
     "output_type": "display_data"
    },
    {
     "name": "stdout",
     "output_type": "stream",
     "text": [
      "\n",
      "🧱 Table : source\n"
     ]
    },
    {
     "data": {
      "application/vnd.microsoft.datawrangler.viewer.v0+json": {
       "columns": [
        {
         "name": "index",
         "rawType": "int64",
         "type": "integer"
        },
        {
         "name": "id_source",
         "rawType": "int64",
         "type": "integer"
        },
        {
         "name": "id_type_donnee",
         "rawType": "int64",
         "type": "integer"
        },
        {
         "name": "nom",
         "rawType": "object",
         "type": "string"
        },
        {
         "name": "url",
         "rawType": "object",
         "type": "string"
        },
        {
         "name": "fiabilite",
         "rawType": "float64",
         "type": "float"
        }
       ],
       "ref": "89a2d4b3-0dab-4ecf-b6c0-06240c690f7b",
       "rows": [
        [
         "0",
         "1",
         "1",
         "Kaggle CSV – FR textes",
         "https://kaggle.com/xxx",
         "0.8"
        ],
        [
         "1",
         "2",
         "1",
         "Kaggle CSV – FR textes",
         "https://kaggle.com/xxx",
         "0.8"
        ]
       ],
       "shape": {
        "columns": 5,
        "rows": 2
       }
      },
      "text/html": [
       "<div>\n",
       "<style scoped>\n",
       "    .dataframe tbody tr th:only-of-type {\n",
       "        vertical-align: middle;\n",
       "    }\n",
       "\n",
       "    .dataframe tbody tr th {\n",
       "        vertical-align: top;\n",
       "    }\n",
       "\n",
       "    .dataframe thead th {\n",
       "        text-align: right;\n",
       "    }\n",
       "</style>\n",
       "<table border=\"1\" class=\"dataframe\">\n",
       "  <thead>\n",
       "    <tr style=\"text-align: right;\">\n",
       "      <th></th>\n",
       "      <th>id_source</th>\n",
       "      <th>id_type_donnee</th>\n",
       "      <th>nom</th>\n",
       "      <th>url</th>\n",
       "      <th>fiabilite</th>\n",
       "    </tr>\n",
       "  </thead>\n",
       "  <tbody>\n",
       "    <tr>\n",
       "      <th>0</th>\n",
       "      <td>1</td>\n",
       "      <td>1</td>\n",
       "      <td>Kaggle CSV – FR textes</td>\n",
       "      <td>https://kaggle.com/xxx</td>\n",
       "      <td>0.8</td>\n",
       "    </tr>\n",
       "    <tr>\n",
       "      <th>1</th>\n",
       "      <td>2</td>\n",
       "      <td>1</td>\n",
       "      <td>Kaggle CSV – FR textes</td>\n",
       "      <td>https://kaggle.com/xxx</td>\n",
       "      <td>0.8</td>\n",
       "    </tr>\n",
       "  </tbody>\n",
       "</table>\n",
       "</div>"
      ],
      "text/plain": [
       "   id_source  id_type_donnee                     nom                     url  \\\n",
       "0          1               1  Kaggle CSV – FR textes  https://kaggle.com/xxx   \n",
       "1          2               1  Kaggle CSV – FR textes  https://kaggle.com/xxx   \n",
       "\n",
       "   fiabilite  \n",
       "0        0.8  \n",
       "1        0.8  "
      ]
     },
     "metadata": {},
     "output_type": "display_data"
    },
    {
     "name": "stdout",
     "output_type": "stream",
     "text": [
      "\n",
      "🧱 Table : flux\n"
     ]
    },
    {
     "data": {
      "application/vnd.microsoft.datawrangler.viewer.v0+json": {
       "columns": [
        {
         "name": "index",
         "rawType": "int64",
         "type": "integer"
        },
        {
         "name": "id_flux",
         "rawType": "int64",
         "type": "integer"
        },
        {
         "name": "id_source",
         "rawType": "int64",
         "type": "integer"
        },
        {
         "name": "date_collecte",
         "rawType": "object",
         "type": "string"
        },
        {
         "name": "format",
         "rawType": "object",
         "type": "string"
        },
        {
         "name": "manifest_uri",
         "rawType": "object",
         "type": "string"
        }
       ],
       "ref": "135438f2-9ca6-45f4-b0ad-3015981c5727",
       "rows": [
        [
         "0",
         "1",
         "1",
         "2025-10-27T10:00:00",
         "csv",
         "data/raw/kaggle/sample.csv"
        ],
        [
         "1",
         "2",
         "1",
         "2025-10-27T10:00:00",
         "csv",
         "data/raw/kaggle/sample.csv"
        ]
       ],
       "shape": {
        "columns": 5,
        "rows": 2
       }
      },
      "text/html": [
       "<div>\n",
       "<style scoped>\n",
       "    .dataframe tbody tr th:only-of-type {\n",
       "        vertical-align: middle;\n",
       "    }\n",
       "\n",
       "    .dataframe tbody tr th {\n",
       "        vertical-align: top;\n",
       "    }\n",
       "\n",
       "    .dataframe thead th {\n",
       "        text-align: right;\n",
       "    }\n",
       "</style>\n",
       "<table border=\"1\" class=\"dataframe\">\n",
       "  <thead>\n",
       "    <tr style=\"text-align: right;\">\n",
       "      <th></th>\n",
       "      <th>id_flux</th>\n",
       "      <th>id_source</th>\n",
       "      <th>date_collecte</th>\n",
       "      <th>format</th>\n",
       "      <th>manifest_uri</th>\n",
       "    </tr>\n",
       "  </thead>\n",
       "  <tbody>\n",
       "    <tr>\n",
       "      <th>0</th>\n",
       "      <td>1</td>\n",
       "      <td>1</td>\n",
       "      <td>2025-10-27T10:00:00</td>\n",
       "      <td>csv</td>\n",
       "      <td>data/raw/kaggle/sample.csv</td>\n",
       "    </tr>\n",
       "    <tr>\n",
       "      <th>1</th>\n",
       "      <td>2</td>\n",
       "      <td>1</td>\n",
       "      <td>2025-10-27T10:00:00</td>\n",
       "      <td>csv</td>\n",
       "      <td>data/raw/kaggle/sample.csv</td>\n",
       "    </tr>\n",
       "  </tbody>\n",
       "</table>\n",
       "</div>"
      ],
      "text/plain": [
       "   id_flux  id_source        date_collecte format                manifest_uri\n",
       "0        1          1  2025-10-27T10:00:00    csv  data/raw/kaggle/sample.csv\n",
       "1        2          1  2025-10-27T10:00:00    csv  data/raw/kaggle/sample.csv"
      ]
     },
     "metadata": {},
     "output_type": "display_data"
    },
    {
     "name": "stdout",
     "output_type": "stream",
     "text": [
      "\n",
      "🧱 Table : document\n"
     ]
    },
    {
     "data": {
      "application/vnd.microsoft.datawrangler.viewer.v0+json": {
       "columns": [
        {
         "name": "index",
         "rawType": "int64",
         "type": "integer"
        },
        {
         "name": "id_doc",
         "rawType": "int64",
         "type": "integer"
        },
        {
         "name": "id_flux",
         "rawType": "int64",
         "type": "integer"
        },
        {
         "name": "titre",
         "rawType": "object",
         "type": "string"
        },
        {
         "name": "texte",
         "rawType": "object",
         "type": "string"
        },
        {
         "name": "langue",
         "rawType": "object",
         "type": "string"
        },
        {
         "name": "date_publication",
         "rawType": "object",
         "type": "string"
        }
       ],
       "ref": "89810663-68c8-424c-8a94-ae13f7c1401f",
       "rows": [
        [
         "0",
         "1",
         "1",
         "JO 2024 : fierté nationale",
         "Les JO ont boosté le moral",
         "fr",
         "2024-07-27"
        ],
        [
         "1",
         "3",
         "1",
         "Inflation 2024",
         "Hausse des prix ressentie",
         "fr",
         "2024-09-15"
        ],
        [
         "2",
         "4",
         "1",
         "JO 2024 : fierté nationale",
         "Les JO ont boosté le moral",
         "fr",
         "2024-07-27"
        ],
        [
         "3",
         "5",
         "1",
         "Inflation 2024",
         "Hausse des prix ressentie",
         "fr",
         "2024-09-15"
        ]
       ],
       "shape": {
        "columns": 6,
        "rows": 4
       }
      },
      "text/html": [
       "<div>\n",
       "<style scoped>\n",
       "    .dataframe tbody tr th:only-of-type {\n",
       "        vertical-align: middle;\n",
       "    }\n",
       "\n",
       "    .dataframe tbody tr th {\n",
       "        vertical-align: top;\n",
       "    }\n",
       "\n",
       "    .dataframe thead th {\n",
       "        text-align: right;\n",
       "    }\n",
       "</style>\n",
       "<table border=\"1\" class=\"dataframe\">\n",
       "  <thead>\n",
       "    <tr style=\"text-align: right;\">\n",
       "      <th></th>\n",
       "      <th>id_doc</th>\n",
       "      <th>id_flux</th>\n",
       "      <th>titre</th>\n",
       "      <th>texte</th>\n",
       "      <th>langue</th>\n",
       "      <th>date_publication</th>\n",
       "    </tr>\n",
       "  </thead>\n",
       "  <tbody>\n",
       "    <tr>\n",
       "      <th>0</th>\n",
       "      <td>1</td>\n",
       "      <td>1</td>\n",
       "      <td>JO 2024 : fierté nationale</td>\n",
       "      <td>Les JO ont boosté le moral</td>\n",
       "      <td>fr</td>\n",
       "      <td>2024-07-27</td>\n",
       "    </tr>\n",
       "    <tr>\n",
       "      <th>1</th>\n",
       "      <td>3</td>\n",
       "      <td>1</td>\n",
       "      <td>Inflation 2024</td>\n",
       "      <td>Hausse des prix ressentie</td>\n",
       "      <td>fr</td>\n",
       "      <td>2024-09-15</td>\n",
       "    </tr>\n",
       "    <tr>\n",
       "      <th>2</th>\n",
       "      <td>4</td>\n",
       "      <td>1</td>\n",
       "      <td>JO 2024 : fierté nationale</td>\n",
       "      <td>Les JO ont boosté le moral</td>\n",
       "      <td>fr</td>\n",
       "      <td>2024-07-27</td>\n",
       "    </tr>\n",
       "    <tr>\n",
       "      <th>3</th>\n",
       "      <td>5</td>\n",
       "      <td>1</td>\n",
       "      <td>Inflation 2024</td>\n",
       "      <td>Hausse des prix ressentie</td>\n",
       "      <td>fr</td>\n",
       "      <td>2024-09-15</td>\n",
       "    </tr>\n",
       "  </tbody>\n",
       "</table>\n",
       "</div>"
      ],
      "text/plain": [
       "   id_doc  id_flux                       titre                       texte  \\\n",
       "0       1        1  JO 2024 : fierté nationale  Les JO ont boosté le moral   \n",
       "1       3        1              Inflation 2024   Hausse des prix ressentie   \n",
       "2       4        1  JO 2024 : fierté nationale  Les JO ont boosté le moral   \n",
       "3       5        1              Inflation 2024   Hausse des prix ressentie   \n",
       "\n",
       "  langue date_publication  \n",
       "0     fr       2024-07-27  \n",
       "1     fr       2024-09-15  \n",
       "2     fr       2024-07-27  \n",
       "3     fr       2024-09-15  "
      ]
     },
     "metadata": {},
     "output_type": "display_data"
    }
   ],
   "source": [
    "def show_table(name: str):\n",
    "    \"\"\"Affiche le contenu d'une table SQLite joliment avec Pandas (10 premières lignes).\"\"\"\n",
    "    print(f\"\\n🧱 Table : {name}\")\n",
    "    display(sql_df(f\"SELECT * FROM {name} LIMIT 10;\"))\n",
    "\n",
    "tables_collecte = [\"type_donnee\", \"source\", \"flux\", \"document\"]\n",
    "\n",
    "for t in tables_collecte:\n",
    "    show_table(t)"
   ]
  },
  {
   "cell_type": "markdown",
   "id": "0096b87c",
   "metadata": {},
   "source": [
    "## 🔗 Vue unifiée de la chaîne de sourcing (JOINs)\n",
    "\n",
    "Requête SQL complexe joignant toutes les tables de collecte :\n",
    "\n",
    "`TYPE_DONNEE → SOURCE → FLUX → DOCUMENT`\n",
    "\n",
    "**Colonnes affichées** :\n",
    "- Type de donnée et format\n",
    "- Nom de la source + fiabilité\n",
    "- Date de collecte + URI manifest\n",
    "- Titre et date de publication du document\n",
    "\n",
    "**Preuve de gouvernance** : traçabilité complète de l'origine à la consommation."
   ]
  },
  {
   "cell_type": "code",
   "execution_count": 26,
   "id": "9407d52f",
   "metadata": {},
   "outputs": [
    {
     "name": "stdout",
     "output_type": "stream",
     "text": [
      "📊 Vue d'ensemble de la chaîne de sourcing :\n"
     ]
    },
    {
     "data": {
      "application/vnd.microsoft.datawrangler.viewer.v0+json": {
       "columns": [
        {
         "name": "index",
         "rawType": "int64",
         "type": "integer"
        },
        {
         "name": "type_donnee",
         "rawType": "object",
         "type": "string"
        },
        {
         "name": "source_nom",
         "rawType": "object",
         "type": "unknown"
        },
        {
         "name": "source_fiabilite",
         "rawType": "float64",
         "type": "float"
        },
        {
         "name": "flux_format",
         "rawType": "object",
         "type": "unknown"
        },
        {
         "name": "flux_date",
         "rawType": "object",
         "type": "unknown"
        },
        {
         "name": "flux_manifest",
         "rawType": "object",
         "type": "unknown"
        },
        {
         "name": "doc_titre",
         "rawType": "object",
         "type": "unknown"
        },
        {
         "name": "doc_date",
         "rawType": "object",
         "type": "unknown"
        }
       ],
       "ref": "dcc6f3ea-a61d-477a-83d6-52fa07463b1d",
       "rows": [
        [
         "0",
         "Fichier",
         null,
         null,
         null,
         null,
         null,
         null,
         null
        ],
        [
         "1",
         "Fichier",
         "Kaggle CSV – FR textes",
         "0.8",
         null,
         null,
         null,
         null,
         null
        ],
        [
         "2",
         "Fichier",
         "Kaggle CSV – FR textes",
         "0.8",
         "csv",
         "2025-10-27T10:00:00",
         "data/raw/kaggle/sample.csv",
         null,
         null
        ],
        [
         "3",
         "Fichier",
         "Kaggle CSV – FR textes",
         "0.8",
         "csv",
         "2025-10-27T10:00:00",
         "data/raw/kaggle/sample.csv",
         "JO 2024 : fierté nationale",
         "2024-07-27"
        ],
        [
         "4",
         "Fichier",
         "Kaggle CSV – FR textes",
         "0.8",
         "csv",
         "2025-10-27T10:00:00",
         "data/raw/kaggle/sample.csv",
         "JO 2024 : fierté nationale",
         "2024-07-27"
        ],
        [
         "5",
         "Fichier",
         "Kaggle CSV – FR textes",
         "0.8",
         "csv",
         "2025-10-27T10:00:00",
         "data/raw/kaggle/sample.csv",
         "Inflation 2024",
         "2024-09-15"
        ],
        [
         "6",
         "Fichier",
         "Kaggle CSV – FR textes",
         "0.8",
         "csv",
         "2025-10-27T10:00:00",
         "data/raw/kaggle/sample.csv",
         "Inflation 2024",
         "2024-09-15"
        ]
       ],
       "shape": {
        "columns": 8,
        "rows": 7
       }
      },
      "text/html": [
       "<div>\n",
       "<style scoped>\n",
       "    .dataframe tbody tr th:only-of-type {\n",
       "        vertical-align: middle;\n",
       "    }\n",
       "\n",
       "    .dataframe tbody tr th {\n",
       "        vertical-align: top;\n",
       "    }\n",
       "\n",
       "    .dataframe thead th {\n",
       "        text-align: right;\n",
       "    }\n",
       "</style>\n",
       "<table border=\"1\" class=\"dataframe\">\n",
       "  <thead>\n",
       "    <tr style=\"text-align: right;\">\n",
       "      <th></th>\n",
       "      <th>type_donnee</th>\n",
       "      <th>source_nom</th>\n",
       "      <th>source_fiabilite</th>\n",
       "      <th>flux_format</th>\n",
       "      <th>flux_date</th>\n",
       "      <th>flux_manifest</th>\n",
       "      <th>doc_titre</th>\n",
       "      <th>doc_date</th>\n",
       "    </tr>\n",
       "  </thead>\n",
       "  <tbody>\n",
       "    <tr>\n",
       "      <th>0</th>\n",
       "      <td>Fichier</td>\n",
       "      <td>None</td>\n",
       "      <td>NaN</td>\n",
       "      <td>None</td>\n",
       "      <td>None</td>\n",
       "      <td>None</td>\n",
       "      <td>None</td>\n",
       "      <td>None</td>\n",
       "    </tr>\n",
       "    <tr>\n",
       "      <th>1</th>\n",
       "      <td>Fichier</td>\n",
       "      <td>Kaggle CSV – FR textes</td>\n",
       "      <td>0.8</td>\n",
       "      <td>None</td>\n",
       "      <td>None</td>\n",
       "      <td>None</td>\n",
       "      <td>None</td>\n",
       "      <td>None</td>\n",
       "    </tr>\n",
       "    <tr>\n",
       "      <th>2</th>\n",
       "      <td>Fichier</td>\n",
       "      <td>Kaggle CSV – FR textes</td>\n",
       "      <td>0.8</td>\n",
       "      <td>csv</td>\n",
       "      <td>2025-10-27T10:00:00</td>\n",
       "      <td>data/raw/kaggle/sample.csv</td>\n",
       "      <td>None</td>\n",
       "      <td>None</td>\n",
       "    </tr>\n",
       "    <tr>\n",
       "      <th>3</th>\n",
       "      <td>Fichier</td>\n",
       "      <td>Kaggle CSV – FR textes</td>\n",
       "      <td>0.8</td>\n",
       "      <td>csv</td>\n",
       "      <td>2025-10-27T10:00:00</td>\n",
       "      <td>data/raw/kaggle/sample.csv</td>\n",
       "      <td>JO 2024 : fierté nationale</td>\n",
       "      <td>2024-07-27</td>\n",
       "    </tr>\n",
       "    <tr>\n",
       "      <th>4</th>\n",
       "      <td>Fichier</td>\n",
       "      <td>Kaggle CSV – FR textes</td>\n",
       "      <td>0.8</td>\n",
       "      <td>csv</td>\n",
       "      <td>2025-10-27T10:00:00</td>\n",
       "      <td>data/raw/kaggle/sample.csv</td>\n",
       "      <td>JO 2024 : fierté nationale</td>\n",
       "      <td>2024-07-27</td>\n",
       "    </tr>\n",
       "    <tr>\n",
       "      <th>5</th>\n",
       "      <td>Fichier</td>\n",
       "      <td>Kaggle CSV – FR textes</td>\n",
       "      <td>0.8</td>\n",
       "      <td>csv</td>\n",
       "      <td>2025-10-27T10:00:00</td>\n",
       "      <td>data/raw/kaggle/sample.csv</td>\n",
       "      <td>Inflation 2024</td>\n",
       "      <td>2024-09-15</td>\n",
       "    </tr>\n",
       "    <tr>\n",
       "      <th>6</th>\n",
       "      <td>Fichier</td>\n",
       "      <td>Kaggle CSV – FR textes</td>\n",
       "      <td>0.8</td>\n",
       "      <td>csv</td>\n",
       "      <td>2025-10-27T10:00:00</td>\n",
       "      <td>data/raw/kaggle/sample.csv</td>\n",
       "      <td>Inflation 2024</td>\n",
       "      <td>2024-09-15</td>\n",
       "    </tr>\n",
       "  </tbody>\n",
       "</table>\n",
       "</div>"
      ],
      "text/plain": [
       "  type_donnee              source_nom  source_fiabilite flux_format  \\\n",
       "0     Fichier                    None               NaN        None   \n",
       "1     Fichier  Kaggle CSV – FR textes               0.8        None   \n",
       "2     Fichier  Kaggle CSV – FR textes               0.8         csv   \n",
       "3     Fichier  Kaggle CSV – FR textes               0.8         csv   \n",
       "4     Fichier  Kaggle CSV – FR textes               0.8         csv   \n",
       "5     Fichier  Kaggle CSV – FR textes               0.8         csv   \n",
       "6     Fichier  Kaggle CSV – FR textes               0.8         csv   \n",
       "\n",
       "             flux_date               flux_manifest  \\\n",
       "0                 None                        None   \n",
       "1                 None                        None   \n",
       "2  2025-10-27T10:00:00  data/raw/kaggle/sample.csv   \n",
       "3  2025-10-27T10:00:00  data/raw/kaggle/sample.csv   \n",
       "4  2025-10-27T10:00:00  data/raw/kaggle/sample.csv   \n",
       "5  2025-10-27T10:00:00  data/raw/kaggle/sample.csv   \n",
       "6  2025-10-27T10:00:00  data/raw/kaggle/sample.csv   \n",
       "\n",
       "                    doc_titre    doc_date  \n",
       "0                        None        None  \n",
       "1                        None        None  \n",
       "2                        None        None  \n",
       "3  JO 2024 : fierté nationale  2024-07-27  \n",
       "4  JO 2024 : fierté nationale  2024-07-27  \n",
       "5              Inflation 2024  2024-09-15  \n",
       "6              Inflation 2024  2024-09-15  "
      ]
     },
     "metadata": {},
     "output_type": "display_data"
    }
   ],
   "source": [
    "query_sources = \"\"\"\n",
    "SELECT\n",
    "    td.libelle          AS type_donnee,\n",
    "    s.nom               AS source_nom,\n",
    "    ROUND(s.fiabilite,2) AS source_fiabilite,\n",
    "    f.format            AS flux_format,\n",
    "    f.date_collecte     AS flux_date,\n",
    "    f.manifest_uri      AS flux_manifest,\n",
    "    d.titre             AS doc_titre,\n",
    "    d.date_publication  AS doc_date\n",
    "FROM type_donnee td\n",
    "LEFT JOIN source   s ON s.id_type_donnee = td.id_type_donnee\n",
    "LEFT JOIN flux     f ON f.id_source      = s.id_source\n",
    "LEFT JOIN document d ON d.id_flux        = f.id_flux\n",
    "ORDER BY td.libelle, s.nom, f.date_collecte, d.date_publication;\n",
    "\"\"\"\n",
    "\n",
    "df_sources = sql_df(query_sources)\n",
    "\n",
    "print(\"📊 Vue d'ensemble de la chaîne de sourcing :\")\n",
    "display(df_sources)"
   ]
  },
  {
   "cell_type": "markdown",
   "id": "2bf3dc1e",
   "metadata": {},
   "source": [
    "## 📈 Statistiques descriptives des sources\n",
    "\n",
    "Analyse agrégée des données de collecte :\n",
    "\n",
    "**Répartition par type** :\n",
    "- Nombre de sources par type de donnée\n",
    "- Fiabilité moyenne (0.0 à 1.0)\n",
    "\n",
    "**Répartition par source** :\n",
    "- Nombre de documents collectés par source\n",
    "- Tri décroissant pour identifier les sources les plus productives\n",
    "\n",
    "Utile pour monitoring et optimisation des collectes."
   ]
  },
  {
   "cell_type": "code",
   "execution_count": 30,
   "id": "1eb50a82",
   "metadata": {},
   "outputs": [
    {
     "name": "stdout",
     "output_type": "stream",
     "text": [
      "📊 Répartition des sources par type de donnée :\n"
     ]
    },
    {
     "data": {
      "application/vnd.microsoft.datawrangler.viewer.v0+json": {
       "columns": [
        {
         "name": "index",
         "rawType": "int64",
         "type": "integer"
        },
        {
         "name": "type_donnee",
         "rawType": "object",
         "type": "string"
        },
        {
         "name": "nb_sources",
         "rawType": "int64",
         "type": "integer"
        },
        {
         "name": "fiabilite_moy",
         "rawType": "float64",
         "type": "float"
        }
       ],
       "ref": "a598da86-415c-458a-a86a-462cd9a4db30",
       "rows": [
        [
         "0",
         "Fichier",
         "2",
         "0.8"
        ]
       ],
       "shape": {
        "columns": 3,
        "rows": 1
       }
      },
      "text/html": [
       "<div>\n",
       "<style scoped>\n",
       "    .dataframe tbody tr th:only-of-type {\n",
       "        vertical-align: middle;\n",
       "    }\n",
       "\n",
       "    .dataframe tbody tr th {\n",
       "        vertical-align: top;\n",
       "    }\n",
       "\n",
       "    .dataframe thead th {\n",
       "        text-align: right;\n",
       "    }\n",
       "</style>\n",
       "<table border=\"1\" class=\"dataframe\">\n",
       "  <thead>\n",
       "    <tr style=\"text-align: right;\">\n",
       "      <th></th>\n",
       "      <th>type_donnee</th>\n",
       "      <th>nb_sources</th>\n",
       "      <th>fiabilite_moy</th>\n",
       "    </tr>\n",
       "  </thead>\n",
       "  <tbody>\n",
       "    <tr>\n",
       "      <th>0</th>\n",
       "      <td>Fichier</td>\n",
       "      <td>2</td>\n",
       "      <td>0.8</td>\n",
       "    </tr>\n",
       "  </tbody>\n",
       "</table>\n",
       "</div>"
      ],
      "text/plain": [
       "  type_donnee  nb_sources  fiabilite_moy\n",
       "0     Fichier           2            0.8"
      ]
     },
     "metadata": {},
     "output_type": "display_data"
    },
    {
     "name": "stdout",
     "output_type": "stream",
     "text": [
      "📄 Nombre de documents par source :\n"
     ]
    },
    {
     "data": {
      "application/vnd.microsoft.datawrangler.viewer.v0+json": {
       "columns": [
        {
         "name": "index",
         "rawType": "int64",
         "type": "integer"
        },
        {
         "name": "source",
         "rawType": "object",
         "type": "string"
        },
        {
         "name": "nb_docs",
         "rawType": "int64",
         "type": "integer"
        }
       ],
       "ref": "2a5429d3-e1fd-41c8-b8fc-d5b3bf4d0076",
       "rows": [
        [
         "0",
         "Kaggle CSV – FR textes",
         "4"
        ]
       ],
       "shape": {
        "columns": 2,
        "rows": 1
       }
      },
      "text/html": [
       "<div>\n",
       "<style scoped>\n",
       "    .dataframe tbody tr th:only-of-type {\n",
       "        vertical-align: middle;\n",
       "    }\n",
       "\n",
       "    .dataframe tbody tr th {\n",
       "        vertical-align: top;\n",
       "    }\n",
       "\n",
       "    .dataframe thead th {\n",
       "        text-align: right;\n",
       "    }\n",
       "</style>\n",
       "<table border=\"1\" class=\"dataframe\">\n",
       "  <thead>\n",
       "    <tr style=\"text-align: right;\">\n",
       "      <th></th>\n",
       "      <th>source</th>\n",
       "      <th>nb_docs</th>\n",
       "    </tr>\n",
       "  </thead>\n",
       "  <tbody>\n",
       "    <tr>\n",
       "      <th>0</th>\n",
       "      <td>Kaggle CSV – FR textes</td>\n",
       "      <td>4</td>\n",
       "    </tr>\n",
       "  </tbody>\n",
       "</table>\n",
       "</div>"
      ],
      "text/plain": [
       "                   source  nb_docs\n",
       "0  Kaggle CSV – FR textes        4"
      ]
     },
     "metadata": {},
     "output_type": "display_data"
    }
   ],
   "source": [
    "print(\"📊 Répartition des sources par type de donnée :\")\n",
    "display(sql_df(\"\"\"\n",
    "SELECT\n",
    "    td.libelle AS type_donnee,\n",
    "    COUNT(s.id_source) AS nb_sources,\n",
    "    ROUND(AVG(s.fiabilite),2) AS fiabilite_moy\n",
    "FROM type_donnee td\n",
    "LEFT JOIN source s ON s.id_type_donnee = td.id_type_donnee\n",
    "GROUP BY td.libelle\n",
    "ORDER BY nb_sources DESC;\n",
    "\"\"\"))\n",
    "\n",
    "print(\"📄 Nombre de documents par source :\")\n",
    "display(sql_df(\"\"\"\n",
    "SELECT\n",
    "    s.nom AS source,\n",
    "    COUNT(d.id_doc) AS nb_docs\n",
    "FROM source s\n",
    "LEFT JOIN flux f ON f.id_source = s.id_source\n",
    "LEFT JOIN document d ON d.id_flux = f.id_flux\n",
    "GROUP BY s.nom\n",
    "ORDER BY nb_docs DESC, s.nom;\n",
    "\"\"\"))"
   ]
  },
  {
   "cell_type": "markdown",
   "id": "4bc06565",
   "metadata": {},
   "source": [
    "## 💾 Création d'un snapshot versionné de la base\n",
    "\n",
    "Sauvegarde horodatée dans `datasens/versions/` :\n",
    "- Format : `datasens_vYYYYMMDD_HHMMSS.db`\n",
    "- Copie complète de la base SQLite\n",
    "- Log automatique dans `README_VERSIONNING.md`\n",
    "\n",
    "**Best practice** : Permet de revenir à un état antérieur en cas de problème (rollback manuel)."
   ]
  },
  {
   "cell_type": "code",
   "execution_count": 50,
   "id": "3ff83f8f",
   "metadata": {},
   "outputs": [
    {
     "name": "stdout",
     "output_type": "stream",
     "text": [
      "🕒 Log : DB_BACKUP\n",
      "📦 Snapshot créé : datasens_v20251027_193608.db\n"
     ]
    }
   ],
   "source": [
    "def save_database_version(note=\"Validation des sources\"):\n",
    "    \"\"\"Crée une copie horodatée de la base SQLite dans datasens/versions/\"\"\"\n",
    "    timestamp = datetime.now().strftime(\"%Y%m%d_%H%M%S\")\n",
    "    backup_name = f\"datasens_v{timestamp}.db\"\n",
    "    backup_path = BACKUP_DIR / backup_name\n",
    "    \n",
    "    shutil.copy(DB_PATH, backup_path)\n",
    "    log_version(\"DB_BACKUP\", f\"{backup_name} - {note}\")\n",
    "    print(f\"📦 Snapshot créé : {backup_name}\")\n",
    "\n",
    "save_database_version(\"Apres validation de la chaine Type-Source-Flux-Document\")"
   ]
  },
  {
   "cell_type": "markdown",
   "id": "84c6e89c",
   "metadata": {},
   "source": [
    "## 📜 Consultation de l'historique de versioning\n",
    "\n",
    "Affichage du contenu de `README_VERSIONNING.md` :\n",
    "- Trace chronologique de toutes les actions (INIT, DB_SCHEMA, DB_BACKUP...)\n",
    "- Format : `Date | Action | Détails`\n",
    "- Gestion automatique de l'encodage (UTF-8 / CP1252 fallback)"
   ]
  },
  {
   "cell_type": "code",
   "execution_count": 52,
   "id": "8ce4b53a",
   "metadata": {},
   "outputs": [
    {
     "name": "stdout",
     "output_type": "stream",
     "text": [
      "📘 Historique des versions DataSens :\n",
      "\n",
      "- **2025-10-27 18:55:32** | `INIT` | Création de la structure projet et versionning\n",
      "- **2025-10-27 18:57:23** | `DB_INIT` | Initialisation de la base SQLite vide\n",
      "- **2025-10-27 18:59:11** | `DB_SCHEMA` | Création des 18 tables principales\n",
      "- **2025-10-27 19:01:46** | `DB_SEED` | Insertion du jeu de données minimal\n",
      "- **2025-10-27 19:09:06** | `ADD_DOC` | Inflation 2024\n",
      "- **2025-10-27 19:10:58** | `ADD_DOC` | Inflation 2024\n",
      "- **2025-10-27 19:12:10** | `INIT` | Création de la structure projet et versionning\n",
      "- **2025-10-27 19:12:16** | `DB_INIT` | Initialisation de la base SQLite vide\n",
      "- **2025-10-27 19:12:23** | `DB_SCHEMA` | Création des 18 tables principales\n",
      "- **2025-10-27 19:12:31** | `DB_SEED` | Insertion du jeu de données minimal\n",
      "- **2025-10-27 19:12:43** | `ADD_DOC` | Inflation 2024\n",
      "- **2025-10-27 19:12:43** | `UPDATE_DOC` | id=2\n",
      "- **2025-10-27 19:12:43** | `DELETE_DOC` | id=2\n",
      "- **2025-10-27 19:30:57** | `E1_COMPLETE` | Notebook E1 terminé avec succès\n",
      "- **2025-10-27 19:36:08** | `DB_BACKUP` | datasens_v20251027_193608.db - Apres validation de la chaine Type-Source-Flux-Document\n",
      "\n"
     ]
    }
   ],
   "source": [
    "print(\"📘 Historique des versions DataSens :\\n\")\n",
    "\n",
    "try:\n",
    "    with open(VERSION_FILE, \"r\", encoding=\"utf-8\") as f:\n",
    "        print(f.read())\n",
    "except UnicodeDecodeError:\n",
    "    # Fallback pour les fichiers créés avec l'encodage système\n",
    "    with open(VERSION_FILE, \"r\", encoding=\"cp1252\") as f:\n",
    "        content = f.read()\n",
    "        print(content)"
   ]
  },
  {
   "cell_type": "markdown",
   "id": "8dd3f228",
   "metadata": {},
   "source": [
    "## 📊 Préparation des visualisations graphiques\n",
    "\n",
    "Prochaine étape : graphiques pour dashboard E1\n",
    "\n",
    "Objectif : Visualiser la **distribution des documents par type de donnée** avec matplotlib/seaborn.\n",
    "\n",
    "Nécessite d'enrichir les données pour avoir des catégories variées (Fichier, API, RSS, Web Scraping, Big Data)."
   ]
  },
  {
   "cell_type": "markdown",
   "id": "23cb0d8b",
   "metadata": {},
   "source": [
    "## \udfa8 Enrichissement des données pour visualisations\n",
    "\n",
    "Insertion de types de données variés pour rendre les graphiques plus parlants :\n",
    "- **API Météo** (OpenWeatherMap)\n",
    "- **Flux RSS** (Franceinfo)\n",
    "- **Web Scraping** (MonAvisCitoyen)\n",
    "- **Big Data** (GDELT Project)\n",
    "\n",
    "Chaque type a plusieurs sources et documents associés pour statistiques réalistes."
   ]
  },
  {
   "cell_type": "code",
   "execution_count": null,
   "id": "c612cc3d",
   "metadata": {},
   "outputs": [],
   "source": [
    "# Enrichissement des données pour diversifier les types de sources\n",
    "cur.executescript(\"\"\"\n",
    "-- Types de données variés\n",
    "INSERT INTO type_donnee (libelle, description, frequence_maj, categorie_metier)\n",
    "VALUES \n",
    "    ('API_REST', 'API temps réel', 'temps réel', 'transactionnelle'),\n",
    "    ('Web_Scraping', 'Extraction web', 'quotidienne', 'analytique'),\n",
    "    ('Sensor_IoT', 'Capteurs terrain', 'continue', 'opérationnelle'),\n",
    "    ('Social_Media', 'Réseaux sociaux', 'horaire', 'comportementale');\n",
    "\n",
    "-- Sources avec bonnes associations\n",
    "INSERT INTO source (id_type_donnee, nom, url, fiabilite)\n",
    "VALUES \n",
    "    (2, 'OpenData Gov', 'https://data.gouv.fr/api', 0.95),\n",
    "    (3, 'LeMonde.fr', 'https://lemonde.fr', 0.85),\n",
    "    (4, 'MeteoFrance', 'https://meteofrance.com/api', 0.98),\n",
    "    (5, 'Twitter API', 'https://api.twitter.com', 0.75);\n",
    "\n",
    "-- Flux de collecte\n",
    "INSERT INTO flux (id_source, date_collecte, format, manifest_uri)\n",
    "VALUES \n",
    "    (2, '2025-10-27T09:00:00', 'json', 'data/raw/opendata/manifest.json'),\n",
    "    (3, '2025-10-27T08:30:00', 'html', 'data/raw/scraping/lemonde.html'),\n",
    "    (4, '2025-10-27T10:15:00', 'xml', 'data/raw/meteo/observations.xml'),\n",
    "    (5, '2025-10-27T11:00:00', 'json', 'data/raw/social/tweets.json');\n",
    "\n",
    "-- Documents exemples\n",
    "INSERT INTO document (id_flux, titre, texte, langue, date_publication)\n",
    "VALUES \n",
    "    (2, 'Budget État 2025', 'Projet de loi finances publiques', 'fr', '2024-10-15'),\n",
    "    (2, 'Emploi Q3 2024', 'Statistiques chômage trimestre', 'fr', '2024-10-01'),\n",
    "    (3, 'Climat COP29', 'Préparatifs conférence climat', 'fr', '2024-10-20'),\n",
    "    (4, 'Alerte météo', 'Vigilance orange vent violent', 'fr', '2025-10-27'),\n",
    "    (4, 'Prévisions 7j', 'Tendance météo semaine', 'fr', '2025-10-27'),\n",
    "    (5, 'Tendance #Sport', 'Buzz autour JO 2024', 'fr', '2024-08-15'),\n",
    "    (5, 'Election débat', 'Réactions réseaux sociaux', 'fr', '2024-09-10');\n",
    "\"\"\")\n",
    "\n",
    "conn.commit()\n",
    "log_version(\"DB_ENRICH\", \"Ajout de 4 types, 4 sources, 4 flux, 7 documents\")\n",
    "print(\"✅ Base enrichie : 5 types de données, 11 documents total\")"
   ]
  },
  {
   "cell_type": "code",
   "execution_count": 44,
   "id": "b7d43fa3",
   "metadata": {},
   "outputs": [
    {
     "name": "stderr",
     "output_type": "stream",
     "text": [
      "C:\\Users\\Utilisateur\\AppData\\Local\\Temp\\ipykernel_16024\\1395235596.py:32: UserWarning: Glyph 128202 (\\N{BAR CHART}) missing from font(s) DejaVu Sans.\n",
      "  plt.tight_layout()\n"
     ]
    },
    {
     "data": {
      "image/png": "[encoded data removed]",
      "text/plain": [
       "<Figure size 1000x600 with 1 Axes>"
      ]
     },
     "metadata": {},
     "output_type": "display_data"
    },
    {
     "name": "stdout",
     "output_type": "stream",
     "text": [
      "📈 Total des documents : 11\n",
      "   • Fichier : 5 docs (45.5%)\n",
      "   • Web_Scraping : 2 docs (18.2%)\n",
      "   • Sensor_IoT : 2 docs (18.2%)\n",
      "   • API_REST : 2 docs (18.2%)\n"
     ]
    }
   ],
   "source": [
    "import matplotlib.pyplot as plt\n",
    "\n",
    "# Créer un graphique amélioré avec couleurs et pourcentages\n",
    "df_viz = sql_df(\"\"\"\n",
    "SELECT\n",
    "    td.libelle AS type_donnee,\n",
    "    COUNT(d.id_doc) AS nb_docs\n",
    "FROM type_donnee td\n",
    "LEFT JOIN source s ON s.id_type_donnee = td.id_type_donnee\n",
    "LEFT JOIN flux f   ON f.id_source      = s.id_source\n",
    "LEFT JOIN document d ON d.id_flux      = f.id_flux\n",
    "GROUP BY td.libelle\n",
    "HAVING COUNT(d.id_doc) > 0\n",
    "ORDER BY nb_docs DESC;\n",
    "\"\"\")\n",
    "\n",
    "if not df_viz.empty:\n",
    "    plt.figure(figsize=(10, 6))\n",
    "    colors = plt.cm.Set3(range(len(df_viz)))\n",
    "    bars = plt.bar(df_viz[\"type_donnee\"], df_viz[\"nb_docs\"], color=colors)\n",
    "    \n",
    "    # Ajouter les valeurs sur les barres\n",
    "    for bar, value in zip(bars, df_viz[\"nb_docs\"]):\n",
    "        plt.text(bar.get_x() + bar.get_width()/2, bar.get_height() + 0.1,\n",
    "                str(value), ha='center', va='bottom', fontweight='bold')\n",
    "    \n",
    "    plt.title(\"📊 Répartition des documents par type de donnée\", fontsize=14, fontweight='bold')\n",
    "    plt.xlabel(\"Type de donnée\", fontsize=12)\n",
    "    plt.ylabel(\"Nombre de documents\", fontsize=12)\n",
    "    plt.grid(axis=\"y\", linestyle=\"--\", alpha=0.3)\n",
    "    plt.xticks(rotation=45, ha='right')\n",
    "    plt.tight_layout()\n",
    "    plt.show()\n",
    "    \n",
    "    total_docs = df_viz[\"nb_docs\"].sum()\n",
    "    print(f\"📈 Total des documents : {total_docs}\")\n",
    "    for i, row in df_viz.iterrows():\n",
    "        pct = (row[\"nb_docs\"] / total_docs) * 100\n",
    "        print(f\"   • {row['type_donnee']} : {row['nb_docs']} docs ({pct:.1f}%)\")\n",
    "else:\n",
    "    print(\"⚠️ Aucune donnée à visualiser.\")"
   ]
  },
  {
   "cell_type": "markdown",
   "id": "e3803d44",
   "metadata": {},
   "source": [
    "## \udf89 Conclusion E1 — Bilan de la phase de prototypage\n",
    "\n",
    "**Mission accomplie** avec ce notebook de démonstration :\n",
    "\n",
    "✅ **Infrastructure projet** : Structure complète (datasens/, data/, logs/, docs/, flows/)  \n",
    "✅ **Base Merise 18 tables** : Schéma relationnel SQLite avec traçabilité  \n",
    "✅ **CRUD opérationnel** : Utilitaires Create/Read/Update/Delete pour `document`  \n",
    "✅ **Gouvernance des données** : Chaîne complète `type_donnee → source → flux → document`  \n",
    "✅ **Versioning** : Système de snapshots horodatés + historique tracé  \n",
    "✅ **Visualisations** : Graphiques matplotlib (distribution par type de source)\n",
    "\n",
    "**Prochaine étape** : **E2** (production) avec sources réelles (MinIO, PostgreSQL, APIs)."
   ]
  },
  {
   "cell_type": "code",
   "execution_count": 45,
   "id": "859fd526",
   "metadata": {},
   "outputs": [
    {
     "name": "stdout",
     "output_type": "stream",
     "text": [
      "🕒 Log : E1_COMPLETE\n",
      "🏁 DataSens E1 terminé avec succès !\n",
      "📂 Base SQLite : c:\\Users\\Utilisateur\\Desktop\\Datasens_Project\\datasens\\datasens.db\n",
      "📋 Log complet : c:\\Users\\Utilisateur\\Desktop\\Datasens_Project\\README_VERSIONNING.md\n",
      "🚀 Prêt pour l'étape E2...\n"
     ]
    }
   ],
   "source": [
    "# Finalisation : fermeture propre de la base et sauvegarde\n",
    "log_version(\"E1_COMPLETE\", \"Notebook E1 terminé avec succès\")\n",
    "\n",
    "# Fermeture de la connexion SQLite\n",
    "conn.close()\n",
    "\n",
    "print(\"🏁 DataSens E1 terminé avec succès !\")\n",
    "print(f\"📂 Base SQLite : {DB_PATH}\")\n",
    "print(f\"📋 Log complet : {VERSION_FILE}\")\n",
    "print(\"🚀 Prêt pour l'étape E2...\")"
   ]
  }
 ],
 "metadata": {
  "kernelspec": {
   "display_name": "Python 3",
   "language": "python",
   "name": "python3"
  },
  "language_info": {
   "codemirror_mode": {
    "name": "ipython",
    "version": 3
   },
   "file_extension": ".py",
   "mimetype": "text/x-python",
   "name": "python",
   "nbconvert_exporter": "python",
   "pygments_lexer": "ipython3",
   "version": "3.13.7"
  }
 },
 "nbformat": 4,
 "nbformat_minor": 5
}
