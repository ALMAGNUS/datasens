{
  "cells": [
    {
      "cell_type": "code",
      "execution_count": null,
      "metadata": {},
      "outputs": [],
      "source": [
        "# DataSens E1_v1 - 02_schema_create\n",
        "from sqlalchemy import Column, Integer, String, Float, DateTime, Boolean, MetaData, Table\n",
        "from sqlalchemy import create_engine\n",
        "from scripts.init_postgres import get_engine\n",
        "\n",
        "metadata = MetaData()\n",
        "\n",
        "# Pareto 10 tables (skeleton examples)\n",
        "users = Table(\"users\", metadata,\n",
        "    Column(\"user_id\", Integer, primary_key=True),\n",
        "    Column(\"email\", String, unique=True),\n",
        "    Column(\"created_at\", DateTime),\n",
        ")\n",
        "projects = Table(\"projects\", metadata,\n",
        "    Column(\"project_id\", Integer, primary_key=True),\n",
        "    Column(\"name\", String),\n",
        ")\n",
        "# ... define remaining tables similarly ...\n",
        "\n",
        "engine = get_engine()\n",
        "metadata.create_all(engine)\n",
        "print(\"Schema created (E1_v1 10 tables placeholder).\")\n"
      ]
    }
  ],
  "metadata": {
    "language_info": {
      "name": "python"
    }
  },
  "nbformat": 4,
  "nbformat_minor": 2
}
