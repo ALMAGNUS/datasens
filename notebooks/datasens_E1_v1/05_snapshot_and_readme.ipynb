{
  "cells": [
    {
      "cell_type": "code",
      "execution_count": null,
      "metadata": {},
      "outputs": [],
      "source": [
        "# DataSens E1_v1 - 05_snapshot_and_readme\n",
        "from scripts.generate_readme import write_snapshot\n",
        "write_snapshot()\n",
        "print(\"Snapshot and README generated.\")\n"
      ]
    }
  ],
  "metadata": {
    "language_info": {
      "name": "python"
    }
  },
  "nbformat": 4,
  "nbformat_minor": 2
}
