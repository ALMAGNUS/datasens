{
  "cells": [
    {
      "cell_type": "code",
      "execution_count": null,
      "metadata": {},
      "outputs": [],
      "source": [
        "# DataSens E1_v1 - 03_ingest_sources\n",
        "from faker import Faker\n",
        "import pandas as pd\n",
        "from pathlib import Path\n",
        "\n",
        "fake = Faker()\n",
        "rows = [\n",
        "    {\"user_id\": i, \"email\": fake.email()} for i in range(1, 101)\n",
        "]\n",
        "df = pd.DataFrame(rows)\n",
        "Path(\"data/raw\").mkdir(parents=True, exist_ok=True)\n",
        "df.to_csv(\"data/raw/users.csv\", index=False)\n",
        "print(\"Simulated data written to data/raw.\")\n"
      ]
    }
  ],
  "metadata": {
    "language_info": {
      "name": "python"
    }
  },
  "nbformat": 4,
  "nbformat_minor": 2
}
