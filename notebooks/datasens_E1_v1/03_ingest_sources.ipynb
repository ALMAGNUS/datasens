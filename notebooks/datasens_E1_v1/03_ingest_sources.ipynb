{
 "cells": [
  {
   "cell_type": "markdown",
   "metadata": {},
   "source": [
    "# DataSens E1_v1 — 03_ingest_sources\n",
    "\n",
    "- Objectifs: insérer données simulées (seed) pour tests\n",
    "- Prérequis: 02_schema_create\n",
    "- Sortie: lignes de démonstration dans `document`\n",
    "- Guide: docs/GUIDE_TECHNIQUE_E1.md\n",
    "\n"
   ]
  },
  {
   "cell_type": "markdown",
   "metadata": {},
   "source": [
    "> Notes:\n",
    "> - Cette étape peuple la base avec un échantillon minimal pour tester CRUD.\n",
    "> - `executescript` exécute plusieurs INSERT d’un coup (référentiels + un document).\n",
    "> - Le `document` est rattaché à un `flux` pour la traçabilité.\n",
    "> - L’opération (`DB_SEED`) est inscrite dans le fichier de versioning.\n"
   ]
  },
  {
   "cell_type": "code",
   "execution_count": null,
   "metadata": {},
   "outputs": [],
   "source": [
    "# DataSens E1_v1 - 03_ingest_sources\n",
    "# 🌱 Bootstrap: données de test (repris du monolithe)\n",
    "import sqlite3\n",
    "from datetime import datetime\n",
    "from pathlib import Path\n",
    "\n",
    "PROJECT_ROOT = Path.cwd().parents[2] if (Path.cwd().name.startswith('datasens_')) else Path.cwd()\n",
    "DB_PATH = PROJECT_ROOT / \"datasens\" / \"datasens.db\"\n",
    "conn = sqlite3.connect(DB_PATH)\n",
    "cur = conn.cursor()\n",
    "\n",
    "cur.executescript(\"\"\"\n",
    "INSERT INTO type_donnee (libelle, description, frequence_maj, categorie_metier)\n",
    "VALUES ('Fichier','CSV Kaggle','hebdomadaire','descriptive');\n",
    "\n",
    "INSERT INTO source (id_type_donnee, nom, url, fiabilite)\n",
    "VALUES (1,'Kaggle CSV – FR textes','https://kaggle.com/xxx',0.8);\n",
    "\n",
    "INSERT INTO flux (id_source, date_collecte, format, manifest_uri)\n",
    "VALUES (1,'2025-10-27T10:00:00','csv','data/raw/kaggle/sample.csv');\n",
    "\n",
    "INSERT INTO document (id_flux, titre, texte, langue, date_publication)\n",
    "VALUES (1,'JO 2024 : fierté nationale','Les JO ont boosté le moral','fr','2024-07-27');\n",
    "\"\"\")\n",
    "\n",
    "conn.commit()\n",
    "with open(PROJECT_ROOT / \"README_VERSIONNING.md\", \"a\", encoding=\"utf-8\") as f:\n",
    "    f.write(f\"- **{datetime.now().strftime('%Y-%m-%d %H:%M:%S')}** | `DB_SEED` | Insertion du jeu de données minimal\\n\")\n",
    "print(\"🌱 Données de test insérées.\")\n"
   ]
  }
 ],
 "metadata": {
  "kernelspec": {
   "display_name": ".venv",
   "language": "python",
   "name": "python3"
  },
  "language_info": {
   "codemirror_mode": {
    "name": "ipython",
    "version": 3
   },
   "file_extension": ".py",
   "mimetype": "text/x-python",
   "name": "python",
   "nbconvert_exporter": "python",
   "pygments_lexer": "ipython3",
   "version": "3.12.7"
  }
 },
 "nbformat": 4,
 "nbformat_minor": 2
}
