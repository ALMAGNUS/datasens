{
 "cells": [
  {
   "cell_type": "markdown",
   "metadata": {},
   "source": [
    "# DataSens E1_v2 — 05_snapshot_and_readme\n",
    "\n",
    "- Objectifs: manifest JSON, MAJ versioning, rappel logs\n",
    "- Prérequis: 04_quality_checks\n",
    "- Sorties: `data/raw/manifests/manifest_*.json` + `README_VERSIONNING.md`\n",
    "- Guide: docs/GUIDE_TECHNIQUE_E1.md\n",
    "\n"
   ]
  },
  {
   "cell_type": "markdown",
   "metadata": {},
   "source": [
    "> Notes:\n",
    "> - Génère un manifest JSON (traçabilité: version, timestamp, sources).\n",
    "> - Met à jour `README_VERSIONNING.md` pour garder l’historique.\n",
    "> - À adapter selon les sources réellement activées (OWM, RSS, NewsAPI, GDELT…).\n",
    "\n"
   ]
  },
  {
   "cell_type": "code",
   "execution_count": null,
   "metadata": {},
   "outputs": [],
   "source": [
    "# DataSens E1_v2 - 05_snapshot_and_readme\n",
    "# Manifest + versioning + snapshot hint\n",
    "import json\n",
    "from datetime import UTC, datetime\n",
    "from pathlib import Path\n",
    "\n",
    "ROOT = Path.cwd()\n",
    "RAW = ROOT / \"data\" / \"raw\"\n",
    "manifest = {\n",
    "  \"notebook_version\": \"E1_v2\",\n",
    "  \"created_utc\": datetime.now(UTC).isoformat(),\n",
    "  \"sources\": [\"Kaggle CSV\",\"OpenWeatherMap\",\"RSS\",\"Web Scraping\",\"GDELT\"],\n",
    "}\n",
    "RAW.joinpath(\"manifests\").mkdir(parents=True, exist_ok=True)\n",
    "path = RAW / \"manifests\" / f\"manifest_{datetime.now(UTC).strftime('%Y%m%dT%H%M%SZ')}.json\"\n",
    "path.write_text(json.dumps(manifest, ensure_ascii=False, indent=2), encoding=\"utf-8\")\n",
    "print(\"✅ Manifest:\", path)\n",
    "\n",
    "# Versioning file\n",
    "VERSION_FILE = ROOT / \"README_VERSIONNING.md\"\n",
    "with open(VERSION_FILE, \"a\", encoding=\"utf-8\") as f:\n",
    "    f.write(f\"- **{datetime.now(UTC).strftime('%Y-%m-%d %H:%M:%S UTC')}** | `E1_V2_COMPLETE` | Découpage v2 en 5 notebooks\\n\")\n",
    "print(\"📘 Versionning mis à jour:\", VERSION_FILE)\n",
    "\n"
   ]
  }
 ],
 "metadata": {
  "language_info": {
   "name": "python"
  }
 },
 "nbformat": 4,
 "nbformat_minor": 2
}
