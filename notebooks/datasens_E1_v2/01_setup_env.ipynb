{
 "cells": [
  {
   "cell_type": "code",
   "execution_count": null,
   "metadata": {},
   "outputs": [],
   "source": [
    "from pathlib import Path\n",
    "\n",
    "ROOT = Path.cwd().resolve().parents[2]\n",
    "DATA_DIR = ROOT / 'data'\n",
    "DOCS_DIR = ROOT / 'docs'\n",
    "LOGS_DIR = ROOT / 'logs'\n",
    "print('ROOT=', ROOT)\n",
    "print('DATA_DIR=', DATA_DIR)\n",
    "print('DOCS_DIR=', DOCS_DIR)\n",
    "print('LOGS_DIR=', LOGS_DIR)\n"
   ]
  },
  {
   "cell_type": "code",
   "execution_count": null,
   "metadata": {},
   "outputs": [],
   "source": [
    "# Override to root-level directories\n",
    "try:\n",
    "    ROOT = ROOT\n",
    "except NameError:\n",
    "    from pathlib import Path\n",
    "    ROOT = Path.cwd().resolve().parents[2]\n",
    "LOGS = ROOT / 'logs'\n",
    "DATA = ROOT / 'data' / 'raw'\n",
    "print('ROOT=', ROOT)\n",
    "print('LOGS=', LOGS)\n",
    "print('DATA(raw)=', DATA)\n"
   ]
  },
  {
   "cell_type": "code",
   "execution_count": null,
   "metadata": {},
   "outputs": [],
   "source": [
    "# Charger .env depuis la racine et créer un .env.example si absent\n",
    "from pathlib import Path\n",
    "\n",
    "from dotenv import load_dotenv\n",
    "\n",
    "env_path = ROOT / '.env'\n",
    "loaded = load_dotenv(env_path)\n",
    "if loaded:\n",
    "    print('✅ .env chargé:', env_path)\n",
    "else:\n",
    "    print('⚠️ .env non trouvé:', env_path)\n",
    "    example = ROOT / '.env.example'\n",
    "    if not example.exists():\n",
    "        example.write_text(\"\"\"\n",
    "# PostgreSQL\n",
    "POSTGRES_HOST=localhost\n",
    "POSTGRES_PORT=5432\n",
    "POSTGRES_DB=datasens\n",
    "POSTGRES_USER=ds_user\n",
    "POSTGRES_PASS=ds_pass\n",
    "\n",
    "# API Keys (optionnelles pour démo)\n",
    "OWM_API_KEY=\n",
    "KAGGLE_USERNAME=\n",
    "KAGGLE_KEY=\n",
    "\n",
    "# Git (optionnel)\n",
    "GIT_USER_NAME=\n",
    "GIT_USER_EMAIL=\n",
    "\"\"\".strip()+\"\\n\", encoding='utf-8')\n",
    "        print('📄 Exemple créé:', example)\n",
    "    else:\n",
    "        print('📄 Exemple déjà présent:', example)\n",
    "\n"
   ]
  },
  {
   "cell_type": "markdown",
   "metadata": {},
   "source": [
    "# DataSens E1_v2 — 01_setup_env\n",
    "\n",
    "- Objectifs: arborescence raw, logging, .env\n",
    "- Prérequis: Python, venv activé, `pip install -r requirements.txt`\n",
    "- Ordre global E1_v2: 01 → 02 → 03 → 04 → 05\n",
    "- Guide: docs/GUIDE_TECHNIQUE_E1.md\n"
   ]
  },
  {
   "cell_type": "code",
   "execution_count": null,
   "metadata": {},
   "outputs": [],
   "source": [
    "# DataSens E1_v2 - 01_setup_env\n",
    "# Config .env, arborescence raw, logging\n",
    "import logging\n",
    "from datetime import UTC, datetime\n",
    "from pathlib import Path\n",
    "\n",
    "ROOT = Path.cwd()\n",
    "DATA = ROOT / \"data\" / \"raw\"\n",
    "for sub in [\"kaggle\",\"api/owm\",\"api/newsapi\",\"rss\",\"scraping/multi\",\"scraping/viepublique\",\"scraping/datagouv\",\"gdelt\",\"manifests\"]:\n",
    "    (DATA / sub).mkdir(parents=True, exist_ok=True)\n",
    "print(\"✅ Arborescence raw créée:\", DATA)\n",
    "\n",
    "# Logging\n",
    "LOGS = ROOT.parent / \"logs\"\n",
    "LOGS.mkdir(parents=True, exist_ok=True)\n",
    "stamp = datetime.now(UTC).strftime(\"%Y%m%d_%H%M%S\")\n",
    "log_file = LOGS / f\"collecte_{stamp}.log\"\n",
    "logging.basicConfig(level=logging.INFO, format='[%(asctime)s] %(levelname)s - %(message)s', datefmt='%H:%M:%S', handlers=[logging.FileHandler(log_file, encoding='utf-8'), logging.StreamHandler()])\n",
    "logging.info(\"Système de logging initialisé\")\n",
    "print(\"📄 Log:\", log_file)\n",
    "\n"
   ]
  }
 ],
 "metadata": {
  "language_info": {
   "name": "python"
  }
 },
 "nbformat": 4,
 "nbformat_minor": 2
}
